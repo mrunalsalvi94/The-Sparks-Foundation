{
 "cells": [
  {
   "cell_type": "markdown",
   "metadata": {},
   "source": [
    "# The Sparks Foundation - Task 4\n",
    "\n",
    "### Stock market and Headline prediction"
   ]
  },
  {
   "cell_type": "code",
   "execution_count": 1,
   "metadata": {},
   "outputs": [],
   "source": [
    "__author__ = \"Mrunal Salvi\"\n",
    "__email__ = \"mrunalsalvi94@gmail.com\""
   ]
  },
  {
   "cell_type": "code",
   "execution_count": 2,
   "metadata": {},
   "outputs": [],
   "source": [
    "import numpy as np\n",
    "import pandas as pd\n",
    "import seaborn as sns\n",
    "import matplotlib.pyplot as plt\n",
    "%matplotlib inline\n",
    "import datetime"
   ]
  },
  {
   "cell_type": "markdown",
   "metadata": {},
   "source": [
    "## PART 1 ---- STOCK PRICE"
   ]
  },
  {
   "cell_type": "markdown",
   "metadata": {},
   "source": [
    "### Data set with dates ranging between \"01-01-2010\" to \"01-01-2020\""
   ]
  },
  {
   "cell_type": "code",
   "execution_count": 3,
   "metadata": {},
   "outputs": [
    {
     "data": {
      "text/html": [
       "<div>\n",
       "<style scoped>\n",
       "    .dataframe tbody tr th:only-of-type {\n",
       "        vertical-align: middle;\n",
       "    }\n",
       "\n",
       "    .dataframe tbody tr th {\n",
       "        vertical-align: top;\n",
       "    }\n",
       "\n",
       "    .dataframe thead th {\n",
       "        text-align: right;\n",
       "    }\n",
       "</style>\n",
       "<table border=\"1\" class=\"dataframe\">\n",
       "  <thead>\n",
       "    <tr style=\"text-align: right;\">\n",
       "      <th></th>\n",
       "      <th>Date</th>\n",
       "      <th>Open</th>\n",
       "      <th>High</th>\n",
       "      <th>Low</th>\n",
       "      <th>Close</th>\n",
       "      <th>Adj Close</th>\n",
       "      <th>Volume</th>\n",
       "    </tr>\n",
       "  </thead>\n",
       "  <tbody>\n",
       "    <tr>\n",
       "      <td>0</td>\n",
       "      <td>2010-01-04</td>\n",
       "      <td>17473.449219</td>\n",
       "      <td>17582.839844</td>\n",
       "      <td>17378.380859</td>\n",
       "      <td>17558.730469</td>\n",
       "      <td>17558.730469</td>\n",
       "      <td>28200.0</td>\n",
       "    </tr>\n",
       "    <tr>\n",
       "      <td>1</td>\n",
       "      <td>2010-01-05</td>\n",
       "      <td>17555.769531</td>\n",
       "      <td>17729.779297</td>\n",
       "      <td>17555.769531</td>\n",
       "      <td>17686.240234</td>\n",
       "      <td>17686.240234</td>\n",
       "      <td>27000.0</td>\n",
       "    </tr>\n",
       "    <tr>\n",
       "      <td>2</td>\n",
       "      <td>2010-01-06</td>\n",
       "      <td>17719.470703</td>\n",
       "      <td>17790.330078</td>\n",
       "      <td>17636.710938</td>\n",
       "      <td>17701.130859</td>\n",
       "      <td>17701.130859</td>\n",
       "      <td>21400.0</td>\n",
       "    </tr>\n",
       "    <tr>\n",
       "      <td>3</td>\n",
       "      <td>2010-01-07</td>\n",
       "      <td>17701.970703</td>\n",
       "      <td>17733.339844</td>\n",
       "      <td>17566.539063</td>\n",
       "      <td>17615.720703</td>\n",
       "      <td>17615.720703</td>\n",
       "      <td>18000.0</td>\n",
       "    </tr>\n",
       "    <tr>\n",
       "      <td>4</td>\n",
       "      <td>2010-01-08</td>\n",
       "      <td>17603.869141</td>\n",
       "      <td>17658.119141</td>\n",
       "      <td>17508.960938</td>\n",
       "      <td>17540.289063</td>\n",
       "      <td>17540.289063</td>\n",
       "      <td>17200.0</td>\n",
       "    </tr>\n",
       "    <tr>\n",
       "      <td>5</td>\n",
       "      <td>2010-01-11</td>\n",
       "      <td>17724.589844</td>\n",
       "      <td>17776.570313</td>\n",
       "      <td>17500.789063</td>\n",
       "      <td>17526.710938</td>\n",
       "      <td>17526.710938</td>\n",
       "      <td>18400.0</td>\n",
       "    </tr>\n",
       "    <tr>\n",
       "      <td>6</td>\n",
       "      <td>2010-01-12</td>\n",
       "      <td>17534.099609</td>\n",
       "      <td>17612.000000</td>\n",
       "      <td>17392.550781</td>\n",
       "      <td>17422.509766</td>\n",
       "      <td>17422.509766</td>\n",
       "      <td>18600.0</td>\n",
       "    </tr>\n",
       "    <tr>\n",
       "      <td>7</td>\n",
       "      <td>2010-01-13</td>\n",
       "      <td>17368.029297</td>\n",
       "      <td>17528.310547</td>\n",
       "      <td>17276.460938</td>\n",
       "      <td>17509.800781</td>\n",
       "      <td>17509.800781</td>\n",
       "      <td>26200.0</td>\n",
       "    </tr>\n",
       "    <tr>\n",
       "      <td>8</td>\n",
       "      <td>2010-01-14</td>\n",
       "      <td>17525.710938</td>\n",
       "      <td>17628.039063</td>\n",
       "      <td>17525.710938</td>\n",
       "      <td>17584.869141</td>\n",
       "      <td>17584.869141</td>\n",
       "      <td>23400.0</td>\n",
       "    </tr>\n",
       "    <tr>\n",
       "      <td>9</td>\n",
       "      <td>2010-01-15</td>\n",
       "      <td>17604.310547</td>\n",
       "      <td>17639.849609</td>\n",
       "      <td>17529.109375</td>\n",
       "      <td>17554.300781</td>\n",
       "      <td>17554.300781</td>\n",
       "      <td>17600.0</td>\n",
       "    </tr>\n",
       "  </tbody>\n",
       "</table>\n",
       "</div>"
      ],
      "text/plain": [
       "         Date          Open          High           Low         Close  \\\n",
       "0  2010-01-04  17473.449219  17582.839844  17378.380859  17558.730469   \n",
       "1  2010-01-05  17555.769531  17729.779297  17555.769531  17686.240234   \n",
       "2  2010-01-06  17719.470703  17790.330078  17636.710938  17701.130859   \n",
       "3  2010-01-07  17701.970703  17733.339844  17566.539063  17615.720703   \n",
       "4  2010-01-08  17603.869141  17658.119141  17508.960938  17540.289063   \n",
       "5  2010-01-11  17724.589844  17776.570313  17500.789063  17526.710938   \n",
       "6  2010-01-12  17534.099609  17612.000000  17392.550781  17422.509766   \n",
       "7  2010-01-13  17368.029297  17528.310547  17276.460938  17509.800781   \n",
       "8  2010-01-14  17525.710938  17628.039063  17525.710938  17584.869141   \n",
       "9  2010-01-15  17604.310547  17639.849609  17529.109375  17554.300781   \n",
       "\n",
       "      Adj Close   Volume  \n",
       "0  17558.730469  28200.0  \n",
       "1  17686.240234  27000.0  \n",
       "2  17701.130859  21400.0  \n",
       "3  17615.720703  18000.0  \n",
       "4  17540.289063  17200.0  \n",
       "5  17526.710938  18400.0  \n",
       "6  17422.509766  18600.0  \n",
       "7  17509.800781  26200.0  \n",
       "8  17584.869141  23400.0  \n",
       "9  17554.300781  17600.0  "
      ]
     },
     "execution_count": 3,
     "metadata": {},
     "output_type": "execute_result"
    }
   ],
   "source": [
    "df=pd.read_csv('^BSESN.csv')\n",
    "df.head(10)"
   ]
  },
  {
   "cell_type": "code",
   "execution_count": 4,
   "metadata": {},
   "outputs": [
    {
     "name": "stdout",
     "output_type": "stream",
     "text": [
      "<class 'pandas.core.frame.DataFrame'>\n",
      "RangeIndex: 2469 entries, 0 to 2468\n",
      "Data columns (total 7 columns):\n",
      "Date         2469 non-null object\n",
      "Open         2453 non-null float64\n",
      "High         2453 non-null float64\n",
      "Low          2453 non-null float64\n",
      "Close        2453 non-null float64\n",
      "Adj Close    2453 non-null float64\n",
      "Volume       2453 non-null float64\n",
      "dtypes: float64(6), object(1)\n",
      "memory usage: 135.1+ KB\n"
     ]
    }
   ],
   "source": [
    "df.info()"
   ]
  },
  {
   "cell_type": "code",
   "execution_count": 5,
   "metadata": {},
   "outputs": [
    {
     "data": {
      "text/plain": [
       "(2469, 7)"
      ]
     },
     "execution_count": 5,
     "metadata": {},
     "output_type": "execute_result"
    }
   ],
   "source": [
    "df.shape"
   ]
  },
  {
   "cell_type": "code",
   "execution_count": 6,
   "metadata": {},
   "outputs": [
    {
     "data": {
      "text/html": [
       "<div>\n",
       "<style scoped>\n",
       "    .dataframe tbody tr th:only-of-type {\n",
       "        vertical-align: middle;\n",
       "    }\n",
       "\n",
       "    .dataframe tbody tr th {\n",
       "        vertical-align: top;\n",
       "    }\n",
       "\n",
       "    .dataframe thead th {\n",
       "        text-align: right;\n",
       "    }\n",
       "</style>\n",
       "<table border=\"1\" class=\"dataframe\">\n",
       "  <thead>\n",
       "    <tr style=\"text-align: right;\">\n",
       "      <th></th>\n",
       "      <th>Open</th>\n",
       "      <th>High</th>\n",
       "      <th>Low</th>\n",
       "      <th>Close</th>\n",
       "      <th>Adj Close</th>\n",
       "      <th>Volume</th>\n",
       "    </tr>\n",
       "  </thead>\n",
       "  <tbody>\n",
       "    <tr>\n",
       "      <td>count</td>\n",
       "      <td>2453.000000</td>\n",
       "      <td>2453.000000</td>\n",
       "      <td>2453.000000</td>\n",
       "      <td>2453.000000</td>\n",
       "      <td>2453.000000</td>\n",
       "      <td>2.453000e+03</td>\n",
       "    </tr>\n",
       "    <tr>\n",
       "      <td>mean</td>\n",
       "      <td>25632.603334</td>\n",
       "      <td>25755.387997</td>\n",
       "      <td>25464.338575</td>\n",
       "      <td>25603.908257</td>\n",
       "      <td>25603.908257</td>\n",
       "      <td>1.429286e+05</td>\n",
       "    </tr>\n",
       "    <tr>\n",
       "      <td>std</td>\n",
       "      <td>7287.000041</td>\n",
       "      <td>7296.449113</td>\n",
       "      <td>7250.933052</td>\n",
       "      <td>7271.492412</td>\n",
       "      <td>7271.492412</td>\n",
       "      <td>1.508648e+06</td>\n",
       "    </tr>\n",
       "    <tr>\n",
       "      <td>min</td>\n",
       "      <td>15436.120117</td>\n",
       "      <td>15440.099609</td>\n",
       "      <td>15135.860352</td>\n",
       "      <td>15175.080078</td>\n",
       "      <td>15175.080078</td>\n",
       "      <td>2.500000e+03</td>\n",
       "    </tr>\n",
       "    <tr>\n",
       "      <td>25%</td>\n",
       "      <td>18773.449219</td>\n",
       "      <td>18869.939453</td>\n",
       "      <td>18673.439453</td>\n",
       "      <td>18762.800781</td>\n",
       "      <td>18762.800781</td>\n",
       "      <td>9.600000e+03</td>\n",
       "    </tr>\n",
       "    <tr>\n",
       "      <td>50%</td>\n",
       "      <td>25703.779297</td>\n",
       "      <td>25835.410156</td>\n",
       "      <td>25496.839844</td>\n",
       "      <td>25651.839844</td>\n",
       "      <td>25651.839844</td>\n",
       "      <td>1.210000e+04</td>\n",
       "    </tr>\n",
       "    <tr>\n",
       "      <td>75%</td>\n",
       "      <td>31299.519531</td>\n",
       "      <td>31355.419922</td>\n",
       "      <td>31172.980469</td>\n",
       "      <td>31262.060547</td>\n",
       "      <td>31262.060547</td>\n",
       "      <td>1.660000e+04</td>\n",
       "    </tr>\n",
       "    <tr>\n",
       "      <td>max</td>\n",
       "      <td>41746.199219</td>\n",
       "      <td>41809.960938</td>\n",
       "      <td>41636.109375</td>\n",
       "      <td>41681.539063</td>\n",
       "      <td>41681.539063</td>\n",
       "      <td>3.181510e+07</td>\n",
       "    </tr>\n",
       "  </tbody>\n",
       "</table>\n",
       "</div>"
      ],
      "text/plain": [
       "               Open          High           Low         Close     Adj Close  \\\n",
       "count   2453.000000   2453.000000   2453.000000   2453.000000   2453.000000   \n",
       "mean   25632.603334  25755.387997  25464.338575  25603.908257  25603.908257   \n",
       "std     7287.000041   7296.449113   7250.933052   7271.492412   7271.492412   \n",
       "min    15436.120117  15440.099609  15135.860352  15175.080078  15175.080078   \n",
       "25%    18773.449219  18869.939453  18673.439453  18762.800781  18762.800781   \n",
       "50%    25703.779297  25835.410156  25496.839844  25651.839844  25651.839844   \n",
       "75%    31299.519531  31355.419922  31172.980469  31262.060547  31262.060547   \n",
       "max    41746.199219  41809.960938  41636.109375  41681.539063  41681.539063   \n",
       "\n",
       "             Volume  \n",
       "count  2.453000e+03  \n",
       "mean   1.429286e+05  \n",
       "std    1.508648e+06  \n",
       "min    2.500000e+03  \n",
       "25%    9.600000e+03  \n",
       "50%    1.210000e+04  \n",
       "75%    1.660000e+04  \n",
       "max    3.181510e+07  "
      ]
     },
     "execution_count": 6,
     "metadata": {},
     "output_type": "execute_result"
    }
   ],
   "source": [
    "df.describe()"
   ]
  },
  {
   "cell_type": "code",
   "execution_count": 7,
   "metadata": {},
   "outputs": [
    {
     "data": {
      "text/plain": [
       "Date         False\n",
       "Open          True\n",
       "High          True\n",
       "Low           True\n",
       "Close         True\n",
       "Adj Close     True\n",
       "Volume        True\n",
       "dtype: bool"
      ]
     },
     "execution_count": 7,
     "metadata": {},
     "output_type": "execute_result"
    }
   ],
   "source": [
    "df.isnull().any()"
   ]
  },
  {
   "cell_type": "code",
   "execution_count": 8,
   "metadata": {},
   "outputs": [
    {
     "data": {
      "text/plain": [
       "Date          0\n",
       "Open         16\n",
       "High         16\n",
       "Low          16\n",
       "Close        16\n",
       "Adj Close    16\n",
       "Volume       16\n",
       "dtype: int64"
      ]
     },
     "execution_count": 8,
     "metadata": {},
     "output_type": "execute_result"
    }
   ],
   "source": [
    "df.isnull().sum()"
   ]
  },
  {
   "cell_type": "code",
   "execution_count": 9,
   "metadata": {},
   "outputs": [
    {
     "data": {
      "text/plain": [
       "Date         2469\n",
       "Open         2453\n",
       "High         2453\n",
       "Low          2453\n",
       "Close        2453\n",
       "Adj Close    2453\n",
       "Volume       2453\n",
       "dtype: int64"
      ]
     },
     "execution_count": 9,
     "metadata": {},
     "output_type": "execute_result"
    }
   ],
   "source": [
    "df.notnull().sum()"
   ]
  },
  {
   "cell_type": "code",
   "execution_count": 10,
   "metadata": {},
   "outputs": [],
   "source": [
    "#converting date column to date-time format\n",
    "\n",
    "df.dropna(inplace=True)"
   ]
  },
  {
   "cell_type": "code",
   "execution_count": 11,
   "metadata": {},
   "outputs": [
    {
     "data": {
      "text/plain": [
       "Date         False\n",
       "Open         False\n",
       "High         False\n",
       "Low          False\n",
       "Close        False\n",
       "Adj Close    False\n",
       "Volume       False\n",
       "dtype: bool"
      ]
     },
     "execution_count": 11,
     "metadata": {},
     "output_type": "execute_result"
    }
   ],
   "source": [
    "df.isnull().any()"
   ]
  },
  {
   "cell_type": "code",
   "execution_count": 12,
   "metadata": {},
   "outputs": [],
   "source": [
    "df['Date'] = pd.to_datetime(df.Date,format='%Y-%m-%d')"
   ]
  },
  {
   "cell_type": "code",
   "execution_count": 13,
   "metadata": {},
   "outputs": [
    {
     "data": {
      "text/html": [
       "<div>\n",
       "<style scoped>\n",
       "    .dataframe tbody tr th:only-of-type {\n",
       "        vertical-align: middle;\n",
       "    }\n",
       "\n",
       "    .dataframe tbody tr th {\n",
       "        vertical-align: top;\n",
       "    }\n",
       "\n",
       "    .dataframe thead th {\n",
       "        text-align: right;\n",
       "    }\n",
       "</style>\n",
       "<table border=\"1\" class=\"dataframe\">\n",
       "  <thead>\n",
       "    <tr style=\"text-align: right;\">\n",
       "      <th></th>\n",
       "      <th>Date</th>\n",
       "      <th>Open</th>\n",
       "      <th>High</th>\n",
       "      <th>Low</th>\n",
       "      <th>Close</th>\n",
       "      <th>Adj Close</th>\n",
       "      <th>Volume</th>\n",
       "    </tr>\n",
       "  </thead>\n",
       "  <tbody>\n",
       "    <tr>\n",
       "      <td>0</td>\n",
       "      <td>2010-01-04</td>\n",
       "      <td>17473.449219</td>\n",
       "      <td>17582.839844</td>\n",
       "      <td>17378.380859</td>\n",
       "      <td>17558.730469</td>\n",
       "      <td>17558.730469</td>\n",
       "      <td>28200.0</td>\n",
       "    </tr>\n",
       "    <tr>\n",
       "      <td>1</td>\n",
       "      <td>2010-01-05</td>\n",
       "      <td>17555.769531</td>\n",
       "      <td>17729.779297</td>\n",
       "      <td>17555.769531</td>\n",
       "      <td>17686.240234</td>\n",
       "      <td>17686.240234</td>\n",
       "      <td>27000.0</td>\n",
       "    </tr>\n",
       "    <tr>\n",
       "      <td>2</td>\n",
       "      <td>2010-01-06</td>\n",
       "      <td>17719.470703</td>\n",
       "      <td>17790.330078</td>\n",
       "      <td>17636.710938</td>\n",
       "      <td>17701.130859</td>\n",
       "      <td>17701.130859</td>\n",
       "      <td>21400.0</td>\n",
       "    </tr>\n",
       "    <tr>\n",
       "      <td>3</td>\n",
       "      <td>2010-01-07</td>\n",
       "      <td>17701.970703</td>\n",
       "      <td>17733.339844</td>\n",
       "      <td>17566.539063</td>\n",
       "      <td>17615.720703</td>\n",
       "      <td>17615.720703</td>\n",
       "      <td>18000.0</td>\n",
       "    </tr>\n",
       "    <tr>\n",
       "      <td>4</td>\n",
       "      <td>2010-01-08</td>\n",
       "      <td>17603.869141</td>\n",
       "      <td>17658.119141</td>\n",
       "      <td>17508.960938</td>\n",
       "      <td>17540.289063</td>\n",
       "      <td>17540.289063</td>\n",
       "      <td>17200.0</td>\n",
       "    </tr>\n",
       "  </tbody>\n",
       "</table>\n",
       "</div>"
      ],
      "text/plain": [
       "        Date          Open          High           Low         Close  \\\n",
       "0 2010-01-04  17473.449219  17582.839844  17378.380859  17558.730469   \n",
       "1 2010-01-05  17555.769531  17729.779297  17555.769531  17686.240234   \n",
       "2 2010-01-06  17719.470703  17790.330078  17636.710938  17701.130859   \n",
       "3 2010-01-07  17701.970703  17733.339844  17566.539063  17615.720703   \n",
       "4 2010-01-08  17603.869141  17658.119141  17508.960938  17540.289063   \n",
       "\n",
       "      Adj Close   Volume  \n",
       "0  17558.730469  28200.0  \n",
       "1  17686.240234  27000.0  \n",
       "2  17701.130859  21400.0  \n",
       "3  17615.720703  18000.0  \n",
       "4  17540.289063  17200.0  "
      ]
     },
     "execution_count": 13,
     "metadata": {},
     "output_type": "execute_result"
    }
   ],
   "source": [
    "df.head()"
   ]
  },
  {
   "cell_type": "code",
   "execution_count": 14,
   "metadata": {},
   "outputs": [
    {
     "name": "stderr",
     "output_type": "stream",
     "text": [
      "C:\\Users\\Mrunal\\Anaconda3\\lib\\site-packages\\pandas\\plotting\\_matplotlib\\converter.py:103: FutureWarning: Using an implicitly registered datetime converter for a matplotlib plotting method. The converter was registered by pandas on import. Future versions of pandas will require you to explicitly register matplotlib converters.\n",
      "\n",
      "To register the converters:\n",
      "\t>>> from pandas.plotting import register_matplotlib_converters\n",
      "\t>>> register_matplotlib_converters()\n",
      "  warnings.warn(msg, FutureWarning)\n"
     ]
    },
    {
     "data": {
      "image/png": "[encoded data removed]",
      "text/plain": [
       "<Figure size 864x504 with 1 Axes>"
      ]
     },
     "metadata": {
      "needs_background": "light"
     },
     "output_type": "display_data"
    },
    {
     "data": {
      "image/png": "[encoded data removed]",
      "text/plain": [
       "<Figure size 864x504 with 1 Axes>"
      ]
     },
     "metadata": {
      "needs_background": "light"
     },
     "output_type": "display_data"
    },
    {
     "data": {
      "image/png": "[encoded data removed]",
      "text/plain": [
       "<Figure size 864x504 with 1 Axes>"
      ]
     },
     "metadata": {
      "needs_background": "light"
     },
     "output_type": "display_data"
    }
   ],
   "source": [
    "#working on adjusted close price and close price history\n",
    "\n",
    "plt.figure(figsize=(12,7))\n",
    "plt.plot(df['Date'], df['Open'], color='green', label = 'Close')\n",
    "plt.xlabel('Date')\n",
    "plt.ylabel('Open Price')\n",
    "plt.title('Open price history from 2010 to 2020')\n",
    "plt.show()\n",
    "\n",
    "plt.figure(figsize=(12,7))\n",
    "plt.plot(df['Date'], df['Adj Close'], color = 'blue',label = 'Adj Close')\n",
    "plt.xlabel('Date')\n",
    "plt.ylabel('Adjusted Close Price')\n",
    "plt.title('Adjusted Close price history from 2010 to 2020')\n",
    "plt.show()\n",
    "\n",
    "plt.figure(figsize=(12,7))\n",
    "plt.plot(df['Date'], df['Close'], color='orange', label = 'Close')\n",
    "plt.xlabel('Date')\n",
    "plt.ylabel('Close Price')\n",
    "plt.title('Close price history from 2010 to 2020')\n",
    "plt.show()"
   ]
  },
  {
   "cell_type": "markdown",
   "metadata": {},
   "source": [
    "## PART 2 ---- Sentiment analysis"
   ]
  },
  {
   "cell_type": "code",
   "execution_count": 15,
   "metadata": {},
   "outputs": [
    {
     "data": {
      "text/html": [
       "<div>\n",
       "<style scoped>\n",
       "    .dataframe tbody tr th:only-of-type {\n",
       "        vertical-align: middle;\n",
       "    }\n",
       "\n",
       "    .dataframe tbody tr th {\n",
       "        vertical-align: top;\n",
       "    }\n",
       "\n",
       "    .dataframe thead th {\n",
       "        text-align: right;\n",
       "    }\n",
       "</style>\n",
       "<table border=\"1\" class=\"dataframe\">\n",
       "  <thead>\n",
       "    <tr style=\"text-align: right;\">\n",
       "      <th></th>\n",
       "      <th>publish_date</th>\n",
       "      <th>headline_category</th>\n",
       "      <th>headline_text</th>\n",
       "    </tr>\n",
       "  </thead>\n",
       "  <tbody>\n",
       "    <tr>\n",
       "      <td>0</td>\n",
       "      <td>20010101</td>\n",
       "      <td>sports.wwe</td>\n",
       "      <td>win over cena satisfying but defeating underta...</td>\n",
       "    </tr>\n",
       "    <tr>\n",
       "      <td>1</td>\n",
       "      <td>20010102</td>\n",
       "      <td>unknown</td>\n",
       "      <td>Status quo will not be disturbed at Ayodhya; s...</td>\n",
       "    </tr>\n",
       "    <tr>\n",
       "      <td>2</td>\n",
       "      <td>20010102</td>\n",
       "      <td>unknown</td>\n",
       "      <td>Fissures in Hurriyat over Pak visit</td>\n",
       "    </tr>\n",
       "    <tr>\n",
       "      <td>3</td>\n",
       "      <td>20010102</td>\n",
       "      <td>unknown</td>\n",
       "      <td>America's unwanted heading for India?</td>\n",
       "    </tr>\n",
       "    <tr>\n",
       "      <td>4</td>\n",
       "      <td>20010102</td>\n",
       "      <td>unknown</td>\n",
       "      <td>For bigwigs; it is destination Goa</td>\n",
       "    </tr>\n",
       "  </tbody>\n",
       "</table>\n",
       "</div>"
      ],
      "text/plain": [
       "   publish_date headline_category  \\\n",
       "0      20010101        sports.wwe   \n",
       "1      20010102           unknown   \n",
       "2      20010102           unknown   \n",
       "3      20010102           unknown   \n",
       "4      20010102           unknown   \n",
       "\n",
       "                                       headline_text  \n",
       "0  win over cena satisfying but defeating underta...  \n",
       "1  Status quo will not be disturbed at Ayodhya; s...  \n",
       "2                Fissures in Hurriyat over Pak visit  \n",
       "3              America's unwanted heading for India?  \n",
       "4                 For bigwigs; it is destination Goa  "
      ]
     },
     "execution_count": 15,
     "metadata": {},
     "output_type": "execute_result"
    }
   ],
   "source": [
    "data = pd.read_csv('india-news-headlines.csv')\n",
    "data.head()"
   ]
  },
  {
   "cell_type": "code",
   "execution_count": 16,
   "metadata": {},
   "outputs": [
    {
     "data": {
      "text/plain": [
       "india                      285619\n",
       "unknown                    207732\n",
       "city.mumbai                132649\n",
       "city.delhi                 124658\n",
       "business.india-business    115246\n",
       "                            ...  \n",
       "delhi-ncr                       7\n",
       "actresses                       7\n",
       "did-you-know                    6\n",
       "sports.headline6                3\n",
       "party-manifestos                2\n",
       "Name: headline_category, Length: 1016, dtype: int64"
      ]
     },
     "execution_count": 16,
     "metadata": {},
     "output_type": "execute_result"
    }
   ],
   "source": [
    "data['headline_category'].value_counts()"
   ]
  },
  {
   "cell_type": "code",
   "execution_count": 17,
   "metadata": {},
   "outputs": [],
   "source": [
    "city_data = data[data['headline_category'].str.contains('^city\\.[a-z]+$', regex=True)]"
   ]
  },
  {
   "cell_type": "code",
   "execution_count": 18,
   "metadata": {},
   "outputs": [
    {
     "data": {
      "text/html": [
       "<div>\n",
       "<style scoped>\n",
       "    .dataframe tbody tr th:only-of-type {\n",
       "        vertical-align: middle;\n",
       "    }\n",
       "\n",
       "    .dataframe tbody tr th {\n",
       "        vertical-align: top;\n",
       "    }\n",
       "\n",
       "    .dataframe thead th {\n",
       "        text-align: right;\n",
       "    }\n",
       "</style>\n",
       "<table border=\"1\" class=\"dataframe\">\n",
       "  <thead>\n",
       "    <tr style=\"text-align: right;\">\n",
       "      <th></th>\n",
       "      <th>publish_date</th>\n",
       "      <th>headline_category</th>\n",
       "      <th>headline_text</th>\n",
       "    </tr>\n",
       "  </thead>\n",
       "  <tbody>\n",
       "    <tr>\n",
       "      <td>274</td>\n",
       "      <td>20010104</td>\n",
       "      <td>city.bengaluru</td>\n",
       "      <td>Three in race for chief secy's post</td>\n",
       "    </tr>\n",
       "    <tr>\n",
       "      <td>275</td>\n",
       "      <td>20010104</td>\n",
       "      <td>city.patna</td>\n",
       "      <td>Druggists' stir leads to shortage of medicines</td>\n",
       "    </tr>\n",
       "    <tr>\n",
       "      <td>278</td>\n",
       "      <td>20010104</td>\n",
       "      <td>city.bengaluru</td>\n",
       "      <td>He's not so inscrutable</td>\n",
       "    </tr>\n",
       "    <tr>\n",
       "      <td>279</td>\n",
       "      <td>20010104</td>\n",
       "      <td>city.delhi</td>\n",
       "      <td>DPCC stages Nyay rally</td>\n",
       "    </tr>\n",
       "    <tr>\n",
       "      <td>643</td>\n",
       "      <td>20010110</td>\n",
       "      <td>city.patna</td>\n",
       "      <td>Fend for yourselves; Pande tells doctors</td>\n",
       "    </tr>\n",
       "  </tbody>\n",
       "</table>\n",
       "</div>"
      ],
      "text/plain": [
       "     publish_date headline_category  \\\n",
       "274      20010104    city.bengaluru   \n",
       "275      20010104        city.patna   \n",
       "278      20010104    city.bengaluru   \n",
       "279      20010104        city.delhi   \n",
       "643      20010110        city.patna   \n",
       "\n",
       "                                      headline_text  \n",
       "274             Three in race for chief secy's post  \n",
       "275  Druggists' stir leads to shortage of medicines  \n",
       "278                         He's not so inscrutable  \n",
       "279                          DPCC stages Nyay rally  \n",
       "643        Fend for yourselves; Pande tells doctors  "
      ]
     },
     "execution_count": 18,
     "metadata": {},
     "output_type": "execute_result"
    }
   ],
   "source": [
    "city_data.head()"
   ]
  },
  {
   "cell_type": "code",
   "execution_count": 19,
   "metadata": {},
   "outputs": [],
   "source": [
    "city_split = pd.DataFrame(columns=['city_name'])"
   ]
  },
  {
   "cell_type": "code",
   "execution_count": 20,
   "metadata": {},
   "outputs": [],
   "source": [
    "city_split['city_name'] = city_data.headline_category.str.split('.',expand=True)[1]"
   ]
  },
  {
   "cell_type": "code",
   "execution_count": 21,
   "metadata": {},
   "outputs": [],
   "source": [
    "city_data = pd.concat([city_data,city_split],axis=1)"
   ]
  },
  {
   "cell_type": "code",
   "execution_count": 22,
   "metadata": {},
   "outputs": [],
   "source": [
    "city_data.drop(columns=['headline_category'],axis=1, inplace=True)"
   ]
  },
  {
   "cell_type": "code",
   "execution_count": 23,
   "metadata": {},
   "outputs": [],
   "source": [
    "city_data.reset_index(inplace=True)"
   ]
  },
  {
   "cell_type": "code",
   "execution_count": 24,
   "metadata": {},
   "outputs": [
    {
     "data": {
      "text/html": [
       "<div>\n",
       "<style scoped>\n",
       "    .dataframe tbody tr th:only-of-type {\n",
       "        vertical-align: middle;\n",
       "    }\n",
       "\n",
       "    .dataframe tbody tr th {\n",
       "        vertical-align: top;\n",
       "    }\n",
       "\n",
       "    .dataframe thead th {\n",
       "        text-align: right;\n",
       "    }\n",
       "</style>\n",
       "<table border=\"1\" class=\"dataframe\">\n",
       "  <thead>\n",
       "    <tr style=\"text-align: right;\">\n",
       "      <th></th>\n",
       "      <th>index</th>\n",
       "      <th>publish_date</th>\n",
       "      <th>headline_text</th>\n",
       "      <th>city_name</th>\n",
       "    </tr>\n",
       "  </thead>\n",
       "  <tbody>\n",
       "    <tr>\n",
       "      <td>0</td>\n",
       "      <td>274</td>\n",
       "      <td>20010104</td>\n",
       "      <td>Three in race for chief secy's post</td>\n",
       "      <td>bengaluru</td>\n",
       "    </tr>\n",
       "    <tr>\n",
       "      <td>1</td>\n",
       "      <td>275</td>\n",
       "      <td>20010104</td>\n",
       "      <td>Druggists' stir leads to shortage of medicines</td>\n",
       "      <td>patna</td>\n",
       "    </tr>\n",
       "    <tr>\n",
       "      <td>2</td>\n",
       "      <td>278</td>\n",
       "      <td>20010104</td>\n",
       "      <td>He's not so inscrutable</td>\n",
       "      <td>bengaluru</td>\n",
       "    </tr>\n",
       "    <tr>\n",
       "      <td>3</td>\n",
       "      <td>279</td>\n",
       "      <td>20010104</td>\n",
       "      <td>DPCC stages Nyay rally</td>\n",
       "      <td>delhi</td>\n",
       "    </tr>\n",
       "    <tr>\n",
       "      <td>4</td>\n",
       "      <td>643</td>\n",
       "      <td>20010110</td>\n",
       "      <td>Fend for yourselves; Pande tells doctors</td>\n",
       "      <td>patna</td>\n",
       "    </tr>\n",
       "  </tbody>\n",
       "</table>\n",
       "</div>"
      ],
      "text/plain": [
       "   index  publish_date                                   headline_text  \\\n",
       "0    274      20010104             Three in race for chief secy's post   \n",
       "1    275      20010104  Druggists' stir leads to shortage of medicines   \n",
       "2    278      20010104                         He's not so inscrutable   \n",
       "3    279      20010104                          DPCC stages Nyay rally   \n",
       "4    643      20010110        Fend for yourselves; Pande tells doctors   \n",
       "\n",
       "   city_name  \n",
       "0  bengaluru  \n",
       "1      patna  \n",
       "2  bengaluru  \n",
       "3      delhi  \n",
       "4      patna  "
      ]
     },
     "execution_count": 24,
     "metadata": {},
     "output_type": "execute_result"
    }
   ],
   "source": [
    "city_data.head()"
   ]
  },
  {
   "cell_type": "code",
   "execution_count": 25,
   "metadata": {},
   "outputs": [
    {
     "data": {
      "text/plain": [
       "72"
      ]
     },
     "execution_count": 25,
     "metadata": {},
     "output_type": "execute_result"
    }
   ],
   "source": [
    "city_data.city_name.nunique()"
   ]
  },
  {
   "cell_type": "code",
   "execution_count": 26,
   "metadata": {},
   "outputs": [
    {
     "data": {
      "text/plain": [
       "array(['bengaluru', 'patna', 'delhi', 'ahmedabad', 'thiruvananthapuram',\n",
       "       'pune', 'mumbai', 'chandigarh', 'lucknow', 'kolkata', 'hyderabad',\n",
       "       'chennai', 'bareilly', 'aurangabad', 'nagpur', 'bhopal',\n",
       "       'vadodara', 'jaipur', 'goa', 'thane', 'hubballi', 'mangaluru',\n",
       "       'mysuru', 'rajkot', 'surat', 'kanpur', 'varanasi', 'allahabad',\n",
       "       'ludhiana', 'guwahati', 'bhubaneswar', 'ranchi', 'gurgaon',\n",
       "       'coimbatore', 'noida', 'madurai', 'indore', 'kochi', 'kozhikode',\n",
       "       'nashik', 'raipur', 'visakhapatnam', 'kolhapur', 'navimumbai',\n",
       "       'trichy', 'puducherry', 'dehradun', 'meerut', 'agra', 'vijayawada',\n",
       "       'jamshedpur', 'imphal', 'shillong', 'amritsar', 'shimla',\n",
       "       'cuttack', 'jind', 'agartala', 'jammu', 'faridabad', 'srinagar',\n",
       "       'salem', 'rajahmundry', 'erode', 'ghaziabad', 'itanagar', 'ajmer',\n",
       "       'kohima', 'gaya', 'jodhpur', 'udaipur', 'amaravati'], dtype=object)"
      ]
     },
     "execution_count": 26,
     "metadata": {},
     "output_type": "execute_result"
    }
   ],
   "source": [
    "city_data.city_name.unique()"
   ]
  },
  {
   "cell_type": "code",
   "execution_count": 27,
   "metadata": {},
   "outputs": [],
   "source": [
    "city_headline = city_data.groupby(['city_name']).agg({'headline_text':'count'})"
   ]
  },
  {
   "cell_type": "code",
   "execution_count": 28,
   "metadata": {},
   "outputs": [],
   "source": [
    "city_headline.rename(columns={'headline_text':'No._headline_text'},inplace=True)"
   ]
  },
  {
   "cell_type": "code",
   "execution_count": 29,
   "metadata": {},
   "outputs": [
    {
     "data": {
      "text/html": [
       "<div>\n",
       "<style scoped>\n",
       "    .dataframe tbody tr th:only-of-type {\n",
       "        vertical-align: middle;\n",
       "    }\n",
       "\n",
       "    .dataframe tbody tr th {\n",
       "        vertical-align: top;\n",
       "    }\n",
       "\n",
       "    .dataframe thead th {\n",
       "        text-align: right;\n",
       "    }\n",
       "</style>\n",
       "<table border=\"1\" class=\"dataframe\">\n",
       "  <thead>\n",
       "    <tr style=\"text-align: right;\">\n",
       "      <th></th>\n",
       "      <th>No._headline_text</th>\n",
       "    </tr>\n",
       "    <tr>\n",
       "      <th>city_name</th>\n",
       "      <th></th>\n",
       "    </tr>\n",
       "  </thead>\n",
       "  <tbody>\n",
       "    <tr>\n",
       "      <td>mumbai</td>\n",
       "      <td>132649</td>\n",
       "    </tr>\n",
       "    <tr>\n",
       "      <td>delhi</td>\n",
       "      <td>124658</td>\n",
       "    </tr>\n",
       "    <tr>\n",
       "      <td>chandigarh</td>\n",
       "      <td>107464</td>\n",
       "    </tr>\n",
       "    <tr>\n",
       "      <td>hyderabad</td>\n",
       "      <td>99014</td>\n",
       "    </tr>\n",
       "    <tr>\n",
       "      <td>bengaluru</td>\n",
       "      <td>91857</td>\n",
       "    </tr>\n",
       "    <tr>\n",
       "      <td>ahmedabad</td>\n",
       "      <td>85813</td>\n",
       "    </tr>\n",
       "    <tr>\n",
       "      <td>pune</td>\n",
       "      <td>84620</td>\n",
       "    </tr>\n",
       "    <tr>\n",
       "      <td>lucknow</td>\n",
       "      <td>83591</td>\n",
       "    </tr>\n",
       "    <tr>\n",
       "      <td>kolkata</td>\n",
       "      <td>81298</td>\n",
       "    </tr>\n",
       "    <tr>\n",
       "      <td>nagpur</td>\n",
       "      <td>77300</td>\n",
       "    </tr>\n",
       "    <tr>\n",
       "      <td>goa</td>\n",
       "      <td>76409</td>\n",
       "    </tr>\n",
       "    <tr>\n",
       "      <td>chennai</td>\n",
       "      <td>72264</td>\n",
       "    </tr>\n",
       "    <tr>\n",
       "      <td>patna</td>\n",
       "      <td>70386</td>\n",
       "    </tr>\n",
       "    <tr>\n",
       "      <td>jaipur</td>\n",
       "      <td>53695</td>\n",
       "    </tr>\n",
       "    <tr>\n",
       "      <td>gurgaon</td>\n",
       "      <td>31312</td>\n",
       "    </tr>\n",
       "  </tbody>\n",
       "</table>\n",
       "</div>"
      ],
      "text/plain": [
       "            No._headline_text\n",
       "city_name                    \n",
       "mumbai                 132649\n",
       "delhi                  124658\n",
       "chandigarh             107464\n",
       "hyderabad               99014\n",
       "bengaluru               91857\n",
       "ahmedabad               85813\n",
       "pune                    84620\n",
       "lucknow                 83591\n",
       "kolkata                 81298\n",
       "nagpur                  77300\n",
       "goa                     76409\n",
       "chennai                 72264\n",
       "patna                   70386\n",
       "jaipur                  53695\n",
       "gurgaon                 31312"
      ]
     },
     "execution_count": 29,
     "metadata": {},
     "output_type": "execute_result"
    }
   ],
   "source": [
    "city_headline = city_headline.sort_values(by='No._headline_text',ascending=False)\n",
    "top_15_headline_city = city_headline.head(15)\n",
    "top_15_headline_city"
   ]
  },
  {
   "cell_type": "code",
   "execution_count": 30,
   "metadata": {},
   "outputs": [
    {
     "data": {
      "image/png": "[encoded data removed]",
      "text/plain": [
       "<Figure size 1080x576 with 1 Axes>"
      ]
     },
     "metadata": {
      "needs_background": "light"
     },
     "output_type": "display_data"
    }
   ],
   "source": [
    "plt.figure(figsize=(15,8))\n",
    "plt.bar(top_15_headline_city.index, height = top_15_headline_city['No._headline_text'], color = 'green')\n",
    "plt.xticks(rotation = 45)\n",
    "plt.xlabel('City Name')\n",
    "plt.ylabel('Number of recorded articles')\n",
    "plt.title('Number of articles per city')\n",
    "plt.show()"
   ]
  },
  {
   "cell_type": "code",
   "execution_count": 31,
   "metadata": {},
   "outputs": [
    {
     "data": {
      "text/plain": [
       "index             int64\n",
       "publish_date      int64\n",
       "headline_text    object\n",
       "city_name        object\n",
       "dtype: object"
      ]
     },
     "execution_count": 31,
     "metadata": {},
     "output_type": "execute_result"
    }
   ],
   "source": [
    "city_data.dtypes   "
   ]
  },
  {
   "cell_type": "code",
   "execution_count": 32,
   "metadata": {},
   "outputs": [
    {
     "data": {
      "text/html": [
       "<div>\n",
       "<style scoped>\n",
       "    .dataframe tbody tr th:only-of-type {\n",
       "        vertical-align: middle;\n",
       "    }\n",
       "\n",
       "    .dataframe tbody tr th {\n",
       "        vertical-align: top;\n",
       "    }\n",
       "\n",
       "    .dataframe thead th {\n",
       "        text-align: right;\n",
       "    }\n",
       "</style>\n",
       "<table border=\"1\" class=\"dataframe\">\n",
       "  <thead>\n",
       "    <tr style=\"text-align: right;\">\n",
       "      <th></th>\n",
       "      <th>index</th>\n",
       "      <th>publish_date</th>\n",
       "      <th>headline_text</th>\n",
       "      <th>city_name</th>\n",
       "    </tr>\n",
       "  </thead>\n",
       "  <tbody>\n",
       "    <tr>\n",
       "      <td>0</td>\n",
       "      <td>274</td>\n",
       "      <td>1970-01-01 00:00:00.020010104</td>\n",
       "      <td>Three in race for chief secy's post</td>\n",
       "      <td>bengaluru</td>\n",
       "    </tr>\n",
       "    <tr>\n",
       "      <td>1</td>\n",
       "      <td>275</td>\n",
       "      <td>1970-01-01 00:00:00.020010104</td>\n",
       "      <td>Druggists' stir leads to shortage of medicines</td>\n",
       "      <td>patna</td>\n",
       "    </tr>\n",
       "    <tr>\n",
       "      <td>2</td>\n",
       "      <td>278</td>\n",
       "      <td>1970-01-01 00:00:00.020010104</td>\n",
       "      <td>He's not so inscrutable</td>\n",
       "      <td>bengaluru</td>\n",
       "    </tr>\n",
       "    <tr>\n",
       "      <td>3</td>\n",
       "      <td>279</td>\n",
       "      <td>1970-01-01 00:00:00.020010104</td>\n",
       "      <td>DPCC stages Nyay rally</td>\n",
       "      <td>delhi</td>\n",
       "    </tr>\n",
       "    <tr>\n",
       "      <td>4</td>\n",
       "      <td>643</td>\n",
       "      <td>1970-01-01 00:00:00.020010110</td>\n",
       "      <td>Fend for yourselves; Pande tells doctors</td>\n",
       "      <td>patna</td>\n",
       "    </tr>\n",
       "  </tbody>\n",
       "</table>\n",
       "</div>"
      ],
      "text/plain": [
       "   index                  publish_date  \\\n",
       "0    274 1970-01-01 00:00:00.020010104   \n",
       "1    275 1970-01-01 00:00:00.020010104   \n",
       "2    278 1970-01-01 00:00:00.020010104   \n",
       "3    279 1970-01-01 00:00:00.020010104   \n",
       "4    643 1970-01-01 00:00:00.020010110   \n",
       "\n",
       "                                    headline_text  city_name  \n",
       "0             Three in race for chief secy's post  bengaluru  \n",
       "1  Druggists' stir leads to shortage of medicines      patna  \n",
       "2                         He's not so inscrutable  bengaluru  \n",
       "3                          DPCC stages Nyay rally      delhi  \n",
       "4        Fend for yourselves; Pande tells doctors      patna  "
      ]
     },
     "execution_count": 32,
     "metadata": {},
     "output_type": "execute_result"
    }
   ],
   "source": [
    "city_data['publish_date'] = pd.to_datetime(city_data['publish_date'])\n",
    "city_data.head()"
   ]
  },
  {
   "cell_type": "code",
   "execution_count": 33,
   "metadata": {},
   "outputs": [],
   "source": [
    "city_data['Year'] = city_data['publish_date'].apply(lambda x: (x.microsecond)//10)"
   ]
  },
  {
   "cell_type": "code",
   "execution_count": 34,
   "metadata": {},
   "outputs": [],
   "source": [
    "city_data.drop(columns=['publish_date','index'],axis=1,inplace=True)"
   ]
  },
  {
   "cell_type": "code",
   "execution_count": 35,
   "metadata": {},
   "outputs": [
    {
     "data": {
      "text/html": [
       "<div>\n",
       "<style scoped>\n",
       "    .dataframe tbody tr th:only-of-type {\n",
       "        vertical-align: middle;\n",
       "    }\n",
       "\n",
       "    .dataframe tbody tr th {\n",
       "        vertical-align: top;\n",
       "    }\n",
       "\n",
       "    .dataframe thead th {\n",
       "        text-align: right;\n",
       "    }\n",
       "</style>\n",
       "<table border=\"1\" class=\"dataframe\">\n",
       "  <thead>\n",
       "    <tr style=\"text-align: right;\">\n",
       "      <th></th>\n",
       "      <th>headline_text</th>\n",
       "      <th>city_name</th>\n",
       "      <th>Year</th>\n",
       "    </tr>\n",
       "  </thead>\n",
       "  <tbody>\n",
       "    <tr>\n",
       "      <td>0</td>\n",
       "      <td>Three in race for chief secy's post</td>\n",
       "      <td>bengaluru</td>\n",
       "      <td>2001</td>\n",
       "    </tr>\n",
       "    <tr>\n",
       "      <td>1</td>\n",
       "      <td>Druggists' stir leads to shortage of medicines</td>\n",
       "      <td>patna</td>\n",
       "      <td>2001</td>\n",
       "    </tr>\n",
       "    <tr>\n",
       "      <td>2</td>\n",
       "      <td>He's not so inscrutable</td>\n",
       "      <td>bengaluru</td>\n",
       "      <td>2001</td>\n",
       "    </tr>\n",
       "    <tr>\n",
       "      <td>3</td>\n",
       "      <td>DPCC stages Nyay rally</td>\n",
       "      <td>delhi</td>\n",
       "      <td>2001</td>\n",
       "    </tr>\n",
       "    <tr>\n",
       "      <td>4</td>\n",
       "      <td>Fend for yourselves; Pande tells doctors</td>\n",
       "      <td>patna</td>\n",
       "      <td>2001</td>\n",
       "    </tr>\n",
       "  </tbody>\n",
       "</table>\n",
       "</div>"
      ],
      "text/plain": [
       "                                    headline_text  city_name  Year\n",
       "0             Three in race for chief secy's post  bengaluru  2001\n",
       "1  Druggists' stir leads to shortage of medicines      patna  2001\n",
       "2                         He's not so inscrutable  bengaluru  2001\n",
       "3                          DPCC stages Nyay rally      delhi  2001\n",
       "4        Fend for yourselves; Pande tells doctors      patna  2001"
      ]
     },
     "execution_count": 35,
     "metadata": {},
     "output_type": "execute_result"
    }
   ],
   "source": [
    "city_data.head()"
   ]
  },
  {
   "cell_type": "code",
   "execution_count": 36,
   "metadata": {},
   "outputs": [],
   "source": [
    "city_data_2 = city_data.copy()\n",
    "city_data_2['No_headline_text'] = 1"
   ]
  },
  {
   "cell_type": "code",
   "execution_count": 37,
   "metadata": {},
   "outputs": [],
   "source": [
    "city_data_2.drop(columns=['headline_text'],axis=1, inplace=True)"
   ]
  },
  {
   "cell_type": "code",
   "execution_count": 38,
   "metadata": {},
   "outputs": [
    {
     "data": {
      "text/html": [
       "<div>\n",
       "<style scoped>\n",
       "    .dataframe tbody tr th:only-of-type {\n",
       "        vertical-align: middle;\n",
       "    }\n",
       "\n",
       "    .dataframe tbody tr th {\n",
       "        vertical-align: top;\n",
       "    }\n",
       "\n",
       "    .dataframe thead th {\n",
       "        text-align: right;\n",
       "    }\n",
       "</style>\n",
       "<table border=\"1\" class=\"dataframe\">\n",
       "  <thead>\n",
       "    <tr style=\"text-align: right;\">\n",
       "      <th></th>\n",
       "      <th>No._headline_text</th>\n",
       "    </tr>\n",
       "    <tr>\n",
       "      <th>city_name</th>\n",
       "      <th></th>\n",
       "    </tr>\n",
       "  </thead>\n",
       "  <tbody>\n",
       "    <tr>\n",
       "      <td>mumbai</td>\n",
       "      <td>132649</td>\n",
       "    </tr>\n",
       "    <tr>\n",
       "      <td>delhi</td>\n",
       "      <td>124658</td>\n",
       "    </tr>\n",
       "    <tr>\n",
       "      <td>chandigarh</td>\n",
       "      <td>107464</td>\n",
       "    </tr>\n",
       "    <tr>\n",
       "      <td>hyderabad</td>\n",
       "      <td>99014</td>\n",
       "    </tr>\n",
       "    <tr>\n",
       "      <td>bengaluru</td>\n",
       "      <td>91857</td>\n",
       "    </tr>\n",
       "    <tr>\n",
       "      <td>ahmedabad</td>\n",
       "      <td>85813</td>\n",
       "    </tr>\n",
       "    <tr>\n",
       "      <td>pune</td>\n",
       "      <td>84620</td>\n",
       "    </tr>\n",
       "  </tbody>\n",
       "</table>\n",
       "</div>"
      ],
      "text/plain": [
       "            No._headline_text\n",
       "city_name                    \n",
       "mumbai                 132649\n",
       "delhi                  124658\n",
       "chandigarh             107464\n",
       "hyderabad               99014\n",
       "bengaluru               91857\n",
       "ahmedabad               85813\n",
       "pune                    84620"
      ]
     },
     "execution_count": 38,
     "metadata": {},
     "output_type": "execute_result"
    }
   ],
   "source": [
    "top_15_headline_city.head(7)"
   ]
  },
  {
   "cell_type": "code",
   "execution_count": 39,
   "metadata": {},
   "outputs": [],
   "source": [
    "city_del = city_data_2[city_data_2.city_name == 'mumbai']\n",
    "city_mum = city_data_2[city_data_2.city_name == 'delhi']\n",
    "city_chan = city_data_2[city_data_2.city_name == 'chandigarh']\n",
    "city_hyd = city_data_2[city_data_2.city_name == 'hyderabad']\n",
    "city_bang = city_data_2[city_data_2.city_name == 'bengaluru']\n",
    "city_ahme = city_data_2[city_data_2.city_name == 'ahmedabad']\n",
    "city_pune = city_data_2[city_data_2.city_name == 'pune']"
   ]
  },
  {
   "cell_type": "code",
   "execution_count": 40,
   "metadata": {},
   "outputs": [],
   "source": [
    "famous_cities = [city_del, city_mum, city_chan, city_hyd, city_bang, city_ahme, city_pune]\n",
    "data_famous_cities = pd.concat(famous_cities)"
   ]
  },
  {
   "cell_type": "code",
   "execution_count": 41,
   "metadata": {},
   "outputs": [],
   "source": [
    "data_famous_cities.reset_index(inplace=True)"
   ]
  },
  {
   "cell_type": "code",
   "execution_count": 42,
   "metadata": {},
   "outputs": [
    {
     "name": "stdout",
     "output_type": "stream",
     "text": [
      "(726075, 4)\n"
     ]
    },
    {
     "data": {
      "text/html": [
       "<div>\n",
       "<style scoped>\n",
       "    .dataframe tbody tr th:only-of-type {\n",
       "        vertical-align: middle;\n",
       "    }\n",
       "\n",
       "    .dataframe tbody tr th {\n",
       "        vertical-align: top;\n",
       "    }\n",
       "\n",
       "    .dataframe thead th {\n",
       "        text-align: right;\n",
       "    }\n",
       "</style>\n",
       "<table border=\"1\" class=\"dataframe\">\n",
       "  <thead>\n",
       "    <tr style=\"text-align: right;\">\n",
       "      <th></th>\n",
       "      <th>index</th>\n",
       "      <th>city_name</th>\n",
       "      <th>Year</th>\n",
       "      <th>No_headline_text</th>\n",
       "    </tr>\n",
       "  </thead>\n",
       "  <tbody>\n",
       "    <tr>\n",
       "      <td>0</td>\n",
       "      <td>37</td>\n",
       "      <td>mumbai</td>\n",
       "      <td>2001</td>\n",
       "      <td>1</td>\n",
       "    </tr>\n",
       "    <tr>\n",
       "      <td>1</td>\n",
       "      <td>41</td>\n",
       "      <td>mumbai</td>\n",
       "      <td>2001</td>\n",
       "      <td>1</td>\n",
       "    </tr>\n",
       "    <tr>\n",
       "      <td>2</td>\n",
       "      <td>51</td>\n",
       "      <td>mumbai</td>\n",
       "      <td>2001</td>\n",
       "      <td>1</td>\n",
       "    </tr>\n",
       "    <tr>\n",
       "      <td>3</td>\n",
       "      <td>55</td>\n",
       "      <td>mumbai</td>\n",
       "      <td>2001</td>\n",
       "      <td>1</td>\n",
       "    </tr>\n",
       "    <tr>\n",
       "      <td>4</td>\n",
       "      <td>57</td>\n",
       "      <td>mumbai</td>\n",
       "      <td>2001</td>\n",
       "      <td>1</td>\n",
       "    </tr>\n",
       "  </tbody>\n",
       "</table>\n",
       "</div>"
      ],
      "text/plain": [
       "   index city_name  Year  No_headline_text\n",
       "0     37    mumbai  2001                 1\n",
       "1     41    mumbai  2001                 1\n",
       "2     51    mumbai  2001                 1\n",
       "3     55    mumbai  2001                 1\n",
       "4     57    mumbai  2001                 1"
      ]
     },
     "execution_count": 42,
     "metadata": {},
     "output_type": "execute_result"
    }
   ],
   "source": [
    "print(data_famous_cities.shape)\n",
    "data_famous_cities.head()"
   ]
  },
  {
   "cell_type": "code",
   "execution_count": 43,
   "metadata": {},
   "outputs": [],
   "source": [
    "# year-wise no. of headlines text\n",
    "city_year_count = pd.Series(city_data_2.groupby(['Year'])['No_headline_text'].count())\n",
    "\n",
    "# year-wise data which shows which city have how many no. of headline text\n",
    "city_count = data_famous_cities.groupby(['Year', 'city_name']).sum()['No_headline_text'].unstack()"
   ]
  },
  {
   "cell_type": "code",
   "execution_count": 44,
   "metadata": {},
   "outputs": [
    {
     "data": {
      "text/plain": [
       "Year\n",
       "2001    31365\n",
       "2002    53721\n",
       "2003    48409\n",
       "2004    34030\n",
       "2005    15788\n",
       "Name: No_headline_text, dtype: int64"
      ]
     },
     "execution_count": 44,
     "metadata": {},
     "output_type": "execute_result"
    }
   ],
   "source": [
    "city_year_count.head()"
   ]
  },
  {
   "cell_type": "code",
   "execution_count": 45,
   "metadata": {},
   "outputs": [],
   "source": [
    "new_data = data.copy()"
   ]
  },
  {
   "cell_type": "code",
   "execution_count": 46,
   "metadata": {},
   "outputs": [],
   "source": [
    "new_data['category']=new_data['headline_category'].str.split('.').map(lambda x : x[0])"
   ]
  },
  {
   "cell_type": "code",
   "execution_count": 47,
   "metadata": {},
   "outputs": [],
   "source": [
    "top_categories = new_data.groupby(['category']).agg({'headline_text':'count'}).sort_values(by='headline_text',ascending = False)"
   ]
  },
  {
   "cell_type": "code",
   "execution_count": 48,
   "metadata": {},
   "outputs": [
    {
     "data": {
      "text/html": [
       "<div>\n",
       "<style scoped>\n",
       "    .dataframe tbody tr th:only-of-type {\n",
       "        vertical-align: middle;\n",
       "    }\n",
       "\n",
       "    .dataframe tbody tr th {\n",
       "        vertical-align: top;\n",
       "    }\n",
       "\n",
       "    .dataframe thead th {\n",
       "        text-align: right;\n",
       "    }\n",
       "</style>\n",
       "<table border=\"1\" class=\"dataframe\">\n",
       "  <thead>\n",
       "    <tr style=\"text-align: right;\">\n",
       "      <th></th>\n",
       "      <th>headline_text</th>\n",
       "    </tr>\n",
       "    <tr>\n",
       "      <th>category</th>\n",
       "      <th></th>\n",
       "    </tr>\n",
       "  </thead>\n",
       "  <tbody>\n",
       "    <tr>\n",
       "      <td>india</td>\n",
       "      <td>285619</td>\n",
       "    </tr>\n",
       "    <tr>\n",
       "      <td>entertainment</td>\n",
       "      <td>224877</td>\n",
       "    </tr>\n",
       "    <tr>\n",
       "      <td>business</td>\n",
       "      <td>153876</td>\n",
       "    </tr>\n",
       "    <tr>\n",
       "      <td>sports</td>\n",
       "      <td>129494</td>\n",
       "    </tr>\n",
       "    <tr>\n",
       "      <td>home</td>\n",
       "      <td>77208</td>\n",
       "    </tr>\n",
       "    <tr>\n",
       "      <td>life-style</td>\n",
       "      <td>43370</td>\n",
       "    </tr>\n",
       "    <tr>\n",
       "      <td>tech</td>\n",
       "      <td>37220</td>\n",
       "    </tr>\n",
       "    <tr>\n",
       "      <td>news</td>\n",
       "      <td>13987</td>\n",
       "    </tr>\n",
       "    <tr>\n",
       "      <td>elections</td>\n",
       "      <td>9003</td>\n",
       "    </tr>\n",
       "    <tr>\n",
       "      <td>delhi-times</td>\n",
       "      <td>7356</td>\n",
       "    </tr>\n",
       "  </tbody>\n",
       "</table>\n",
       "</div>"
      ],
      "text/plain": [
       "               headline_text\n",
       "category                    \n",
       "india                 285619\n",
       "entertainment         224877\n",
       "business              153876\n",
       "sports                129494\n",
       "home                   77208\n",
       "life-style             43370\n",
       "tech                   37220\n",
       "news                   13987\n",
       "elections               9003\n",
       "delhi-times             7356"
      ]
     },
     "execution_count": 48,
     "metadata": {},
     "output_type": "execute_result"
    }
   ],
   "source": [
    "top_10_cat = top_categories.drop(['unknown', 'tv', 'top-stories', 'city', 'citizen', 'edit-page','top-headlines','world']).head(10)\n",
    "top_10_cat"
   ]
  },
  {
   "cell_type": "code",
   "execution_count": 49,
   "metadata": {},
   "outputs": [],
   "source": [
    "top_10_cat.reset_index(inplace=True)"
   ]
  },
  {
   "cell_type": "code",
   "execution_count": 50,
   "metadata": {},
   "outputs": [
    {
     "data": {
      "image/png": "[encoded data removed]",
      "text/plain": [
       "<Figure size 1080x504 with 1 Axes>"
      ]
     },
     "metadata": {
      "needs_background": "light"
     },
     "output_type": "display_data"
    }
   ],
   "source": [
    "plt.figure(figsize=(15,7))\n",
    "plt.bar(top_10_cat.category, height = top_10_cat.headline_text,color = 'orange')\n",
    "plt.xlabel('Category')\n",
    "plt.ylabel('Number of articles')\n",
    "plt.title('Top ten Categories')\n",
    "plt.show()"
   ]
  },
  {
   "cell_type": "code",
   "execution_count": 51,
   "metadata": {},
   "outputs": [],
   "source": [
    "def get_polarity(headline):\n",
    "    result = TextBlob(headline)\n",
    "    \n",
    "    if result.sentiment.polarity < 0:\n",
    "        return 'negative'\n",
    "    elif result.sentiment.polarity == 0:\n",
    "        return 'neutral'\n",
    "    else:\n",
    "        return 'positive'"
   ]
  },
  {
   "cell_type": "code",
   "execution_count": 52,
   "metadata": {},
   "outputs": [],
   "source": [
    "from textblob import TextBlob\n",
    "\n",
    "data['Result'] = np.array([get_polarity(headline) for headline in data['headline_text']])"
   ]
  },
  {
   "cell_type": "code",
   "execution_count": 53,
   "metadata": {},
   "outputs": [
    {
     "data": {
      "text/html": [
       "<div>\n",
       "<style scoped>\n",
       "    .dataframe tbody tr th:only-of-type {\n",
       "        vertical-align: middle;\n",
       "    }\n",
       "\n",
       "    .dataframe tbody tr th {\n",
       "        vertical-align: top;\n",
       "    }\n",
       "\n",
       "    .dataframe thead th {\n",
       "        text-align: right;\n",
       "    }\n",
       "</style>\n",
       "<table border=\"1\" class=\"dataframe\">\n",
       "  <thead>\n",
       "    <tr style=\"text-align: right;\">\n",
       "      <th></th>\n",
       "      <th>publish_date</th>\n",
       "      <th>headline_category</th>\n",
       "      <th>headline_text</th>\n",
       "      <th>Result</th>\n",
       "    </tr>\n",
       "  </thead>\n",
       "  <tbody>\n",
       "    <tr>\n",
       "      <td>0</td>\n",
       "      <td>20010101</td>\n",
       "      <td>sports.wwe</td>\n",
       "      <td>win over cena satisfying but defeating underta...</td>\n",
       "      <td>positive</td>\n",
       "    </tr>\n",
       "    <tr>\n",
       "      <td>1</td>\n",
       "      <td>20010102</td>\n",
       "      <td>unknown</td>\n",
       "      <td>Status quo will not be disturbed at Ayodhya; s...</td>\n",
       "      <td>neutral</td>\n",
       "    </tr>\n",
       "    <tr>\n",
       "      <td>2</td>\n",
       "      <td>20010102</td>\n",
       "      <td>unknown</td>\n",
       "      <td>Fissures in Hurriyat over Pak visit</td>\n",
       "      <td>neutral</td>\n",
       "    </tr>\n",
       "    <tr>\n",
       "      <td>3</td>\n",
       "      <td>20010102</td>\n",
       "      <td>unknown</td>\n",
       "      <td>America's unwanted heading for India?</td>\n",
       "      <td>neutral</td>\n",
       "    </tr>\n",
       "    <tr>\n",
       "      <td>4</td>\n",
       "      <td>20010102</td>\n",
       "      <td>unknown</td>\n",
       "      <td>For bigwigs; it is destination Goa</td>\n",
       "      <td>neutral</td>\n",
       "    </tr>\n",
       "  </tbody>\n",
       "</table>\n",
       "</div>"
      ],
      "text/plain": [
       "   publish_date headline_category  \\\n",
       "0      20010101        sports.wwe   \n",
       "1      20010102           unknown   \n",
       "2      20010102           unknown   \n",
       "3      20010102           unknown   \n",
       "4      20010102           unknown   \n",
       "\n",
       "                                       headline_text    Result  \n",
       "0  win over cena satisfying but defeating underta...  positive  \n",
       "1  Status quo will not be disturbed at Ayodhya; s...   neutral  \n",
       "2                Fissures in Hurriyat over Pak visit   neutral  \n",
       "3              America's unwanted heading for India?   neutral  \n",
       "4                 For bigwigs; it is destination Goa   neutral  "
      ]
     },
     "execution_count": 53,
     "metadata": {},
     "output_type": "execute_result"
    }
   ],
   "source": [
    "data.head()"
   ]
  },
  {
   "cell_type": "code",
   "execution_count": 54,
   "metadata": {},
   "outputs": [],
   "source": [
    "final_result = data.groupby(['Result']).agg({'headline_text':'count'})"
   ]
  },
  {
   "cell_type": "code",
   "execution_count": 55,
   "metadata": {},
   "outputs": [
    {
     "data": {
      "image/png": "[encoded data removed]",
      "text/plain": [
       "<Figure size 360x360 with 1 Axes>"
      ]
     },
     "metadata": {},
     "output_type": "display_data"
    }
   ],
   "source": [
    "plt.figure(figsize=(5,5))\n",
    "final_result['headline_text'].plot.pie()\n",
    "plt.show()"
   ]
  },
  {
   "cell_type": "code",
   "execution_count": 56,
   "metadata": {},
   "outputs": [],
   "source": [
    "negative = (final_result.loc['negative'] / len(data))*100\n",
    "neutral = (final_result.loc['neutral'] / len(data))*100\n",
    "positive = (final_result.loc['positive'] / len(data))*100"
   ]
  },
  {
   "cell_type": "code",
   "execution_count": 57,
   "metadata": {},
   "outputs": [
    {
     "name": "stdout",
     "output_type": "stream",
     "text": [
      "Positive Headlines:  headline_text    18.11792\n",
      "Name: positive, dtype: float64\n",
      "Negative Headlines:  headline_text    12.076834\n",
      "Name: negative, dtype: float64\n",
      "Unbiased Headlines:  headline_text    69.805245\n",
      "Name: neutral, dtype: float64\n"
     ]
    }
   ],
   "source": [
    "print('Positive Headlines: ' , positive)\n",
    "print('Negative Headlines: ' , negative)\n",
    "print('Unbiased Headlines: ' , neutral)"
   ]
  },
  {
   "cell_type": "code",
   "execution_count": 58,
   "metadata": {},
   "outputs": [
    {
     "data": {
      "text/html": [
       "<div>\n",
       "<style scoped>\n",
       "    .dataframe tbody tr th:only-of-type {\n",
       "        vertical-align: middle;\n",
       "    }\n",
       "\n",
       "    .dataframe tbody tr th {\n",
       "        vertical-align: top;\n",
       "    }\n",
       "\n",
       "    .dataframe thead th {\n",
       "        text-align: right;\n",
       "    }\n",
       "</style>\n",
       "<table border=\"1\" class=\"dataframe\">\n",
       "  <thead>\n",
       "    <tr style=\"text-align: right;\">\n",
       "      <th></th>\n",
       "      <th>Date</th>\n",
       "      <th>Label</th>\n",
       "      <th>Top1</th>\n",
       "      <th>Top2</th>\n",
       "      <th>Top3</th>\n",
       "      <th>Top4</th>\n",
       "      <th>Top5</th>\n",
       "      <th>Top6</th>\n",
       "      <th>Top7</th>\n",
       "      <th>Top8</th>\n",
       "      <th>...</th>\n",
       "      <th>Top16</th>\n",
       "      <th>Top17</th>\n",
       "      <th>Top18</th>\n",
       "      <th>Top19</th>\n",
       "      <th>Top20</th>\n",
       "      <th>Top21</th>\n",
       "      <th>Top22</th>\n",
       "      <th>Top23</th>\n",
       "      <th>Top24</th>\n",
       "      <th>Top25</th>\n",
       "    </tr>\n",
       "  </thead>\n",
       "  <tbody>\n",
       "    <tr>\n",
       "      <td>0</td>\n",
       "      <td>2008-08-08</td>\n",
       "      <td>0</td>\n",
       "      <td>b\"Georgia 'downs two Russian warplanes' as cou...</td>\n",
       "      <td>b'BREAKING: Musharraf to be impeached.'</td>\n",
       "      <td>b'Russia Today: Columns of troops roll into So...</td>\n",
       "      <td>b'Russian tanks are moving towards the capital...</td>\n",
       "      <td>b\"Afghan children raped with 'impunity,' U.N. ...</td>\n",
       "      <td>b'150 Russian tanks have entered South Ossetia...</td>\n",
       "      <td>b\"Breaking: Georgia invades South Ossetia, Rus...</td>\n",
       "      <td>b\"The 'enemy combatent' trials are nothing but...</td>\n",
       "      <td>...</td>\n",
       "      <td>b'Georgia Invades South Ossetia - if Russia ge...</td>\n",
       "      <td>b'Al-Qaeda Faces Islamist Backlash'</td>\n",
       "      <td>b'Condoleezza Rice: \"The US would not act to p...</td>\n",
       "      <td>b'This is a busy day:  The European Union has ...</td>\n",
       "      <td>b\"Georgia will withdraw 1,000 soldiers from Ir...</td>\n",
       "      <td>b'Why the Pentagon Thinks Attacking Iran is a ...</td>\n",
       "      <td>b'Caucasus in crisis: Georgia invades South Os...</td>\n",
       "      <td>b'Indian shoe manufactory  - And again in a se...</td>\n",
       "      <td>b'Visitors Suffering from Mental Illnesses Ban...</td>\n",
       "      <td>b\"No Help for Mexico's Kidnapping Surge\"</td>\n",
       "    </tr>\n",
       "    <tr>\n",
       "      <td>1</td>\n",
       "      <td>2008-08-11</td>\n",
       "      <td>1</td>\n",
       "      <td>b'Why wont America and Nato help us? If they w...</td>\n",
       "      <td>b'Bush puts foot down on Georgian conflict'</td>\n",
       "      <td>b\"Jewish Georgian minister: Thanks to Israeli ...</td>\n",
       "      <td>b'Georgian army flees in disarray as Russians ...</td>\n",
       "      <td>b\"Olympic opening ceremony fireworks 'faked'\"</td>\n",
       "      <td>b'What were the Mossad with fraudulent New Zea...</td>\n",
       "      <td>b'Russia angered by Israeli military sale to G...</td>\n",
       "      <td>b'An American citizen living in S.Ossetia blam...</td>\n",
       "      <td>...</td>\n",
       "      <td>b'Israel and the US behind the Georgian aggres...</td>\n",
       "      <td>b'\"Do not believe TV, neither Russian nor Geor...</td>\n",
       "      <td>b'Riots are still going on in Montreal (Canada...</td>\n",
       "      <td>b'China to overtake US as largest manufacturer'</td>\n",
       "      <td>b'War in South Ossetia [PICS]'</td>\n",
       "      <td>b'Israeli Physicians Group Condemns State Tort...</td>\n",
       "      <td>b' Russia has just beaten the United States ov...</td>\n",
       "      <td>b'Perhaps *the* question about the Georgia - R...</td>\n",
       "      <td>b'Russia is so much better at war'</td>\n",
       "      <td>b\"So this is what it's come to: trading sex fo...</td>\n",
       "    </tr>\n",
       "    <tr>\n",
       "      <td>2</td>\n",
       "      <td>2008-08-12</td>\n",
       "      <td>0</td>\n",
       "      <td>b'Remember that adorable 9-year-old who sang a...</td>\n",
       "      <td>b\"Russia 'ends Georgia operation'\"</td>\n",
       "      <td>b'\"If we had no sexual harassment we would hav...</td>\n",
       "      <td>b\"Al-Qa'eda is losing support in Iraq because ...</td>\n",
       "      <td>b'Ceasefire in Georgia: Putin Outmaneuvers the...</td>\n",
       "      <td>b'Why Microsoft and Intel tried to kill the XO...</td>\n",
       "      <td>b'Stratfor: The Russo-Georgian War and the Bal...</td>\n",
       "      <td>b\"I'm Trying to Get a Sense of This Whole Geor...</td>\n",
       "      <td>...</td>\n",
       "      <td>b'U.S. troops still in Georgia (did you know t...</td>\n",
       "      <td>b'Why Russias response to Georgia was right'</td>\n",
       "      <td>b'Gorbachev accuses U.S. of making a \"serious ...</td>\n",
       "      <td>b'Russia, Georgia, and NATO: Cold War Two'</td>\n",
       "      <td>b'Remember that adorable 62-year-old who led y...</td>\n",
       "      <td>b'War in Georgia: The Israeli connection'</td>\n",
       "      <td>b'All signs point to the US encouraging Georgi...</td>\n",
       "      <td>b'Christopher King argues that the US and NATO...</td>\n",
       "      <td>b'America: The New Mexico?'</td>\n",
       "      <td>b\"BBC NEWS | Asia-Pacific | Extinction 'by man...</td>\n",
       "    </tr>\n",
       "    <tr>\n",
       "      <td>3</td>\n",
       "      <td>2008-08-13</td>\n",
       "      <td>0</td>\n",
       "      <td>b' U.S. refuses Israel weapons to attack Iran:...</td>\n",
       "      <td>b\"When the president ordered to attack Tskhinv...</td>\n",
       "      <td>b' Israel clears troops who killed Reuters cam...</td>\n",
       "      <td>b'Britain\\'s policy of being tough on drugs is...</td>\n",
       "      <td>b'Body of 14 year old found in trunk; Latest (...</td>\n",
       "      <td>b'China has moved 10 *million* quake survivors...</td>\n",
       "      <td>b\"Bush announces Operation Get All Up In Russi...</td>\n",
       "      <td>b'Russian forces sink Georgian ships '</td>\n",
       "      <td>...</td>\n",
       "      <td>b'Elephants extinct by 2020?'</td>\n",
       "      <td>b'US humanitarian missions soon in Georgia - i...</td>\n",
       "      <td>b\"Georgia's DDOS came from US sources\"</td>\n",
       "      <td>b'Russian convoy heads into Georgia, violating...</td>\n",
       "      <td>b'Israeli defence minister: US against strike ...</td>\n",
       "      <td>b'Gorbachev: We Had No Choice'</td>\n",
       "      <td>b'Witness: Russian forces head towards Tbilisi...</td>\n",
       "      <td>b' Quarter of Russians blame U.S. for conflict...</td>\n",
       "      <td>b'Georgian president  says US military will ta...</td>\n",
       "      <td>b'2006: Nobel laureate Aleksander Solzhenitsyn...</td>\n",
       "    </tr>\n",
       "    <tr>\n",
       "      <td>4</td>\n",
       "      <td>2008-08-14</td>\n",
       "      <td>1</td>\n",
       "      <td>b'All the experts admit that we should legalis...</td>\n",
       "      <td>b'War in South Osetia - 89 pictures made by a ...</td>\n",
       "      <td>b'Swedish wrestler Ara Abrahamian throws away ...</td>\n",
       "      <td>b'Russia exaggerated the death toll in South O...</td>\n",
       "      <td>b'Missile That Killed 9 Inside Pakistan May Ha...</td>\n",
       "      <td>b\"Rushdie Condemns Random House's Refusal to P...</td>\n",
       "      <td>b'Poland and US agree to missle defense deal. ...</td>\n",
       "      <td>b'Will the Russians conquer Tblisi? Bet on it,...</td>\n",
       "      <td>...</td>\n",
       "      <td>b'Bank analyst forecast Georgian crisis 2 days...</td>\n",
       "      <td>b\"Georgia confict could set back Russia's US r...</td>\n",
       "      <td>b'War in the Caucasus is as much the product o...</td>\n",
       "      <td>b'\"Non-media\" photos of South Ossetia/Georgia ...</td>\n",
       "      <td>b'Georgian TV reporter shot by Russian sniper ...</td>\n",
       "      <td>b'Saudi Arabia: Mother moves to block child ma...</td>\n",
       "      <td>b'Taliban wages war on humanitarian aid workers'</td>\n",
       "      <td>b'Russia: World  \"can forget about\" Georgia\\'s...</td>\n",
       "      <td>b'Darfur rebels accuse Sudan of mounting major...</td>\n",
       "      <td>b'Philippines : Peace Advocate say Muslims nee...</td>\n",
       "    </tr>\n",
       "  </tbody>\n",
       "</table>\n",
       "<p>5 rows × 27 columns</p>\n",
       "</div>"
      ],
      "text/plain": [
       "         Date  Label                                               Top1  \\\n",
       "0  2008-08-08      0  b\"Georgia 'downs two Russian warplanes' as cou...   \n",
       "1  2008-08-11      1  b'Why wont America and Nato help us? If they w...   \n",
       "2  2008-08-12      0  b'Remember that adorable 9-year-old who sang a...   \n",
       "3  2008-08-13      0  b' U.S. refuses Israel weapons to attack Iran:...   \n",
       "4  2008-08-14      1  b'All the experts admit that we should legalis...   \n",
       "\n",
       "                                                Top2  \\\n",
       "0            b'BREAKING: Musharraf to be impeached.'   \n",
       "1        b'Bush puts foot down on Georgian conflict'   \n",
       "2                 b\"Russia 'ends Georgia operation'\"   \n",
       "3  b\"When the president ordered to attack Tskhinv...   \n",
       "4  b'War in South Osetia - 89 pictures made by a ...   \n",
       "\n",
       "                                                Top3  \\\n",
       "0  b'Russia Today: Columns of troops roll into So...   \n",
       "1  b\"Jewish Georgian minister: Thanks to Israeli ...   \n",
       "2  b'\"If we had no sexual harassment we would hav...   \n",
       "3  b' Israel clears troops who killed Reuters cam...   \n",
       "4  b'Swedish wrestler Ara Abrahamian throws away ...   \n",
       "\n",
       "                                                Top4  \\\n",
       "0  b'Russian tanks are moving towards the capital...   \n",
       "1  b'Georgian army flees in disarray as Russians ...   \n",
       "2  b\"Al-Qa'eda is losing support in Iraq because ...   \n",
       "3  b'Britain\\'s policy of being tough on drugs is...   \n",
       "4  b'Russia exaggerated the death toll in South O...   \n",
       "\n",
       "                                                Top5  \\\n",
       "0  b\"Afghan children raped with 'impunity,' U.N. ...   \n",
       "1      b\"Olympic opening ceremony fireworks 'faked'\"   \n",
       "2  b'Ceasefire in Georgia: Putin Outmaneuvers the...   \n",
       "3  b'Body of 14 year old found in trunk; Latest (...   \n",
       "4  b'Missile That Killed 9 Inside Pakistan May Ha...   \n",
       "\n",
       "                                                Top6  \\\n",
       "0  b'150 Russian tanks have entered South Ossetia...   \n",
       "1  b'What were the Mossad with fraudulent New Zea...   \n",
       "2  b'Why Microsoft and Intel tried to kill the XO...   \n",
       "3  b'China has moved 10 *million* quake survivors...   \n",
       "4  b\"Rushdie Condemns Random House's Refusal to P...   \n",
       "\n",
       "                                                Top7  \\\n",
       "0  b\"Breaking: Georgia invades South Ossetia, Rus...   \n",
       "1  b'Russia angered by Israeli military sale to G...   \n",
       "2  b'Stratfor: The Russo-Georgian War and the Bal...   \n",
       "3  b\"Bush announces Operation Get All Up In Russi...   \n",
       "4  b'Poland and US agree to missle defense deal. ...   \n",
       "\n",
       "                                                Top8  ...  \\\n",
       "0  b\"The 'enemy combatent' trials are nothing but...  ...   \n",
       "1  b'An American citizen living in S.Ossetia blam...  ...   \n",
       "2  b\"I'm Trying to Get a Sense of This Whole Geor...  ...   \n",
       "3             b'Russian forces sink Georgian ships '  ...   \n",
       "4  b'Will the Russians conquer Tblisi? Bet on it,...  ...   \n",
       "\n",
       "                                               Top16  \\\n",
       "0  b'Georgia Invades South Ossetia - if Russia ge...   \n",
       "1  b'Israel and the US behind the Georgian aggres...   \n",
       "2  b'U.S. troops still in Georgia (did you know t...   \n",
       "3                      b'Elephants extinct by 2020?'   \n",
       "4  b'Bank analyst forecast Georgian crisis 2 days...   \n",
       "\n",
       "                                               Top17  \\\n",
       "0                b'Al-Qaeda Faces Islamist Backlash'   \n",
       "1  b'\"Do not believe TV, neither Russian nor Geor...   \n",
       "2       b'Why Russias response to Georgia was right'   \n",
       "3  b'US humanitarian missions soon in Georgia - i...   \n",
       "4  b\"Georgia confict could set back Russia's US r...   \n",
       "\n",
       "                                               Top18  \\\n",
       "0  b'Condoleezza Rice: \"The US would not act to p...   \n",
       "1  b'Riots are still going on in Montreal (Canada...   \n",
       "2  b'Gorbachev accuses U.S. of making a \"serious ...   \n",
       "3             b\"Georgia's DDOS came from US sources\"   \n",
       "4  b'War in the Caucasus is as much the product o...   \n",
       "\n",
       "                                               Top19  \\\n",
       "0  b'This is a busy day:  The European Union has ...   \n",
       "1    b'China to overtake US as largest manufacturer'   \n",
       "2         b'Russia, Georgia, and NATO: Cold War Two'   \n",
       "3  b'Russian convoy heads into Georgia, violating...   \n",
       "4  b'\"Non-media\" photos of South Ossetia/Georgia ...   \n",
       "\n",
       "                                               Top20  \\\n",
       "0  b\"Georgia will withdraw 1,000 soldiers from Ir...   \n",
       "1                     b'War in South Ossetia [PICS]'   \n",
       "2  b'Remember that adorable 62-year-old who led y...   \n",
       "3  b'Israeli defence minister: US against strike ...   \n",
       "4  b'Georgian TV reporter shot by Russian sniper ...   \n",
       "\n",
       "                                               Top21  \\\n",
       "0  b'Why the Pentagon Thinks Attacking Iran is a ...   \n",
       "1  b'Israeli Physicians Group Condemns State Tort...   \n",
       "2          b'War in Georgia: The Israeli connection'   \n",
       "3                     b'Gorbachev: We Had No Choice'   \n",
       "4  b'Saudi Arabia: Mother moves to block child ma...   \n",
       "\n",
       "                                               Top22  \\\n",
       "0  b'Caucasus in crisis: Georgia invades South Os...   \n",
       "1  b' Russia has just beaten the United States ov...   \n",
       "2  b'All signs point to the US encouraging Georgi...   \n",
       "3  b'Witness: Russian forces head towards Tbilisi...   \n",
       "4   b'Taliban wages war on humanitarian aid workers'   \n",
       "\n",
       "                                               Top23  \\\n",
       "0  b'Indian shoe manufactory  - And again in a se...   \n",
       "1  b'Perhaps *the* question about the Georgia - R...   \n",
       "2  b'Christopher King argues that the US and NATO...   \n",
       "3  b' Quarter of Russians blame U.S. for conflict...   \n",
       "4  b'Russia: World  \"can forget about\" Georgia\\'s...   \n",
       "\n",
       "                                               Top24  \\\n",
       "0  b'Visitors Suffering from Mental Illnesses Ban...   \n",
       "1                 b'Russia is so much better at war'   \n",
       "2                        b'America: The New Mexico?'   \n",
       "3  b'Georgian president  says US military will ta...   \n",
       "4  b'Darfur rebels accuse Sudan of mounting major...   \n",
       "\n",
       "                                               Top25  \n",
       "0           b\"No Help for Mexico's Kidnapping Surge\"  \n",
       "1  b\"So this is what it's come to: trading sex fo...  \n",
       "2  b\"BBC NEWS | Asia-Pacific | Extinction 'by man...  \n",
       "3  b'2006: Nobel laureate Aleksander Solzhenitsyn...  \n",
       "4  b'Philippines : Peace Advocate say Muslims nee...  \n",
       "\n",
       "[5 rows x 27 columns]"
      ]
     },
     "execution_count": 58,
     "metadata": {},
     "output_type": "execute_result"
    }
   ],
   "source": [
    "news_data = pd.read_csv('Combined_News_DJIA.csv', encoding='ISO-8859-1')\n",
    "news_data.head()"
   ]
  },
  {
   "cell_type": "markdown",
   "metadata": {},
   "source": [
    "### Data preprocessing\n",
    "\n",
    "1. Remove special characters / numbers\n",
    "2. Lower case\n",
    "3. Join\n",
    "4. Vectorize"
   ]
  },
  {
   "cell_type": "code",
   "execution_count": 59,
   "metadata": {},
   "outputs": [],
   "source": [
    "news_data.iloc[:,2:].replace('[^a-zA-Z]',' ',regex = True, inplace=True)"
   ]
  },
  {
   "cell_type": "code",
   "execution_count": 60,
   "metadata": {},
   "outputs": [],
   "source": [
    "col_list = list(news_data.iloc[:,2:].columns)"
   ]
  },
  {
   "cell_type": "code",
   "execution_count": 61,
   "metadata": {},
   "outputs": [],
   "source": [
    "for col in col_list:\n",
    "    news_data[col] = news_data[col].str.lower()"
   ]
  },
  {
   "cell_type": "code",
   "execution_count": 62,
   "metadata": {},
   "outputs": [],
   "source": [
    "headlines_text = []\n",
    "for row in range(0, len(news_data.index)):\n",
    "    lines = ' '.join(str(k) for k in news_data.iloc[row,2:])\n",
    "    headlines_text.append(lines)"
   ]
  },
  {
   "cell_type": "code",
   "execution_count": 63,
   "metadata": {},
   "outputs": [],
   "source": [
    "import re\n",
    "\n",
    "final_headlines_text = []\n",
    "for i in range(len(headlines_text)):\n",
    "    final_headlines_text.append(re.sub(\"b[(')]+\", '', headlines_text[i]))\n",
    "    final_headlines_text[i] = re.sub('b[(\")]+', '', final_headlines_text[i])\n",
    "    final_headlines_text[i] = re.sub(\"\\'\", '', final_headlines_text[i])"
   ]
  },
  {
   "cell_type": "code",
   "execution_count": 64,
   "metadata": {},
   "outputs": [],
   "source": [
    "news_data['Headline_News'] = final_headlines_text"
   ]
  },
  {
   "cell_type": "code",
   "execution_count": 65,
   "metadata": {},
   "outputs": [
    {
     "data": {
      "text/html": [
       "<div>\n",
       "<style scoped>\n",
       "    .dataframe tbody tr th:only-of-type {\n",
       "        vertical-align: middle;\n",
       "    }\n",
       "\n",
       "    .dataframe tbody tr th {\n",
       "        vertical-align: top;\n",
       "    }\n",
       "\n",
       "    .dataframe thead th {\n",
       "        text-align: right;\n",
       "    }\n",
       "</style>\n",
       "<table border=\"1\" class=\"dataframe\">\n",
       "  <thead>\n",
       "    <tr style=\"text-align: right;\">\n",
       "      <th></th>\n",
       "      <th>Date</th>\n",
       "      <th>Label</th>\n",
       "      <th>Top1</th>\n",
       "      <th>Top2</th>\n",
       "      <th>Top3</th>\n",
       "      <th>Top4</th>\n",
       "      <th>Top5</th>\n",
       "      <th>Top6</th>\n",
       "      <th>Top7</th>\n",
       "      <th>Top8</th>\n",
       "      <th>...</th>\n",
       "      <th>Top17</th>\n",
       "      <th>Top18</th>\n",
       "      <th>Top19</th>\n",
       "      <th>Top20</th>\n",
       "      <th>Top21</th>\n",
       "      <th>Top22</th>\n",
       "      <th>Top23</th>\n",
       "      <th>Top24</th>\n",
       "      <th>Top25</th>\n",
       "      <th>Headline_News</th>\n",
       "    </tr>\n",
       "  </thead>\n",
       "  <tbody>\n",
       "    <tr>\n",
       "      <td>0</td>\n",
       "      <td>2008-08-08</td>\n",
       "      <td>0</td>\n",
       "      <td>b\"georgia 'downs two russian warplanes' as cou...</td>\n",
       "      <td>b'breaking: musharraf to be impeached.'</td>\n",
       "      <td>b'russia today: columns of troops roll into so...</td>\n",
       "      <td>b'russian tanks are moving towards the capital...</td>\n",
       "      <td>b\"afghan children raped with 'impunity,' u.n. ...</td>\n",
       "      <td>b'150 russian tanks have entered south ossetia...</td>\n",
       "      <td>b\"breaking: georgia invades south ossetia, rus...</td>\n",
       "      <td>b\"the 'enemy combatent' trials are nothing but...</td>\n",
       "      <td>...</td>\n",
       "      <td>b'al-qaeda faces islamist backlash'</td>\n",
       "      <td>b'condoleezza rice: \"the us would not act to p...</td>\n",
       "      <td>b'this is a busy day:  the european union has ...</td>\n",
       "      <td>b\"georgia will withdraw 1,000 soldiers from ir...</td>\n",
       "      <td>b'why the pentagon thinks attacking iran is a ...</td>\n",
       "      <td>b'caucasus in crisis: georgia invades south os...</td>\n",
       "      <td>b'indian shoe manufactory  - and again in a se...</td>\n",
       "      <td>b'visitors suffering from mental illnesses ban...</td>\n",
       "      <td>b\"no help for mexico's kidnapping surge\"</td>\n",
       "      <td>georgia downs two russian warplanes as countri...</td>\n",
       "    </tr>\n",
       "    <tr>\n",
       "      <td>1</td>\n",
       "      <td>2008-08-11</td>\n",
       "      <td>1</td>\n",
       "      <td>b'why wont america and nato help us? if they w...</td>\n",
       "      <td>b'bush puts foot down on georgian conflict'</td>\n",
       "      <td>b\"jewish georgian minister: thanks to israeli ...</td>\n",
       "      <td>b'georgian army flees in disarray as russians ...</td>\n",
       "      <td>b\"olympic opening ceremony fireworks 'faked'\"</td>\n",
       "      <td>b'what were the mossad with fraudulent new zea...</td>\n",
       "      <td>b'russia angered by israeli military sale to g...</td>\n",
       "      <td>b'an american citizen living in s.ossetia blam...</td>\n",
       "      <td>...</td>\n",
       "      <td>b'\"do not believe tv, neither russian nor geor...</td>\n",
       "      <td>b'riots are still going on in montreal (canada...</td>\n",
       "      <td>b'china to overtake us as largest manufacturer'</td>\n",
       "      <td>b'war in south ossetia [pics]'</td>\n",
       "      <td>b'israeli physicians group condemns state tort...</td>\n",
       "      <td>b' russia has just beaten the united states ov...</td>\n",
       "      <td>b'perhaps *the* question about the georgia - r...</td>\n",
       "      <td>b'russia is so much better at war'</td>\n",
       "      <td>b\"so this is what it's come to: trading sex fo...</td>\n",
       "      <td>why wont america and nato help us? if they won...</td>\n",
       "    </tr>\n",
       "    <tr>\n",
       "      <td>2</td>\n",
       "      <td>2008-08-12</td>\n",
       "      <td>0</td>\n",
       "      <td>b'remember that adorable 9-year-old who sang a...</td>\n",
       "      <td>b\"russia 'ends georgia operation'\"</td>\n",
       "      <td>b'\"if we had no sexual harassment we would hav...</td>\n",
       "      <td>b\"al-qa'eda is losing support in iraq because ...</td>\n",
       "      <td>b'ceasefire in georgia: putin outmaneuvers the...</td>\n",
       "      <td>b'why microsoft and intel tried to kill the xo...</td>\n",
       "      <td>b'stratfor: the russo-georgian war and the bal...</td>\n",
       "      <td>b\"i'm trying to get a sense of this whole geor...</td>\n",
       "      <td>...</td>\n",
       "      <td>b'why russias response to georgia was right'</td>\n",
       "      <td>b'gorbachev accuses u.s. of making a \"serious ...</td>\n",
       "      <td>b'russia, georgia, and nato: cold war two'</td>\n",
       "      <td>b'remember that adorable 62-year-old who led y...</td>\n",
       "      <td>b'war in georgia: the israeli connection'</td>\n",
       "      <td>b'all signs point to the us encouraging georgi...</td>\n",
       "      <td>b'christopher king argues that the us and nato...</td>\n",
       "      <td>b'america: the new mexico?'</td>\n",
       "      <td>b\"bbc news | asia-pacific | extinction 'by man...</td>\n",
       "      <td>remember that adorable 9-year-old who sang at ...</td>\n",
       "    </tr>\n",
       "    <tr>\n",
       "      <td>3</td>\n",
       "      <td>2008-08-13</td>\n",
       "      <td>0</td>\n",
       "      <td>b' u.s. refuses israel weapons to attack iran:...</td>\n",
       "      <td>b\"when the president ordered to attack tskhinv...</td>\n",
       "      <td>b' israel clears troops who killed reuters cam...</td>\n",
       "      <td>b'britain\\'s policy of being tough on drugs is...</td>\n",
       "      <td>b'body of 14 year old found in trunk; latest (...</td>\n",
       "      <td>b'china has moved 10 *million* quake survivors...</td>\n",
       "      <td>b\"bush announces operation get all up in russi...</td>\n",
       "      <td>b'russian forces sink georgian ships '</td>\n",
       "      <td>...</td>\n",
       "      <td>b'us humanitarian missions soon in georgia - i...</td>\n",
       "      <td>b\"georgia's ddos came from us sources\"</td>\n",
       "      <td>b'russian convoy heads into georgia, violating...</td>\n",
       "      <td>b'israeli defence minister: us against strike ...</td>\n",
       "      <td>b'gorbachev: we had no choice'</td>\n",
       "      <td>b'witness: russian forces head towards tbilisi...</td>\n",
       "      <td>b' quarter of russians blame u.s. for conflict...</td>\n",
       "      <td>b'georgian president  says us military will ta...</td>\n",
       "      <td>b'2006: nobel laureate aleksander solzhenitsyn...</td>\n",
       "      <td>u.s. refuses israel weapons to attack iran: r...</td>\n",
       "    </tr>\n",
       "    <tr>\n",
       "      <td>4</td>\n",
       "      <td>2008-08-14</td>\n",
       "      <td>1</td>\n",
       "      <td>b'all the experts admit that we should legalis...</td>\n",
       "      <td>b'war in south osetia - 89 pictures made by a ...</td>\n",
       "      <td>b'swedish wrestler ara abrahamian throws away ...</td>\n",
       "      <td>b'russia exaggerated the death toll in south o...</td>\n",
       "      <td>b'missile that killed 9 inside pakistan may ha...</td>\n",
       "      <td>b\"rushdie condemns random house's refusal to p...</td>\n",
       "      <td>b'poland and us agree to missle defense deal. ...</td>\n",
       "      <td>b'will the russians conquer tblisi? bet on it,...</td>\n",
       "      <td>...</td>\n",
       "      <td>b\"georgia confict could set back russia's us r...</td>\n",
       "      <td>b'war in the caucasus is as much the product o...</td>\n",
       "      <td>b'\"non-media\" photos of south ossetia/georgia ...</td>\n",
       "      <td>b'georgian tv reporter shot by russian sniper ...</td>\n",
       "      <td>b'saudi arabia: mother moves to block child ma...</td>\n",
       "      <td>b'taliban wages war on humanitarian aid workers'</td>\n",
       "      <td>b'russia: world  \"can forget about\" georgia\\'s...</td>\n",
       "      <td>b'darfur rebels accuse sudan of mounting major...</td>\n",
       "      <td>b'philippines : peace advocate say muslims nee...</td>\n",
       "      <td>all the experts admit that we should legalise ...</td>\n",
       "    </tr>\n",
       "  </tbody>\n",
       "</table>\n",
       "<p>5 rows × 28 columns</p>\n",
       "</div>"
      ],
      "text/plain": [
       "         Date  Label                                               Top1  \\\n",
       "0  2008-08-08      0  b\"georgia 'downs two russian warplanes' as cou...   \n",
       "1  2008-08-11      1  b'why wont america and nato help us? if they w...   \n",
       "2  2008-08-12      0  b'remember that adorable 9-year-old who sang a...   \n",
       "3  2008-08-13      0  b' u.s. refuses israel weapons to attack iran:...   \n",
       "4  2008-08-14      1  b'all the experts admit that we should legalis...   \n",
       "\n",
       "                                                Top2  \\\n",
       "0            b'breaking: musharraf to be impeached.'   \n",
       "1        b'bush puts foot down on georgian conflict'   \n",
       "2                 b\"russia 'ends georgia operation'\"   \n",
       "3  b\"when the president ordered to attack tskhinv...   \n",
       "4  b'war in south osetia - 89 pictures made by a ...   \n",
       "\n",
       "                                                Top3  \\\n",
       "0  b'russia today: columns of troops roll into so...   \n",
       "1  b\"jewish georgian minister: thanks to israeli ...   \n",
       "2  b'\"if we had no sexual harassment we would hav...   \n",
       "3  b' israel clears troops who killed reuters cam...   \n",
       "4  b'swedish wrestler ara abrahamian throws away ...   \n",
       "\n",
       "                                                Top4  \\\n",
       "0  b'russian tanks are moving towards the capital...   \n",
       "1  b'georgian army flees in disarray as russians ...   \n",
       "2  b\"al-qa'eda is losing support in iraq because ...   \n",
       "3  b'britain\\'s policy of being tough on drugs is...   \n",
       "4  b'russia exaggerated the death toll in south o...   \n",
       "\n",
       "                                                Top5  \\\n",
       "0  b\"afghan children raped with 'impunity,' u.n. ...   \n",
       "1      b\"olympic opening ceremony fireworks 'faked'\"   \n",
       "2  b'ceasefire in georgia: putin outmaneuvers the...   \n",
       "3  b'body of 14 year old found in trunk; latest (...   \n",
       "4  b'missile that killed 9 inside pakistan may ha...   \n",
       "\n",
       "                                                Top6  \\\n",
       "0  b'150 russian tanks have entered south ossetia...   \n",
       "1  b'what were the mossad with fraudulent new zea...   \n",
       "2  b'why microsoft and intel tried to kill the xo...   \n",
       "3  b'china has moved 10 *million* quake survivors...   \n",
       "4  b\"rushdie condemns random house's refusal to p...   \n",
       "\n",
       "                                                Top7  \\\n",
       "0  b\"breaking: georgia invades south ossetia, rus...   \n",
       "1  b'russia angered by israeli military sale to g...   \n",
       "2  b'stratfor: the russo-georgian war and the bal...   \n",
       "3  b\"bush announces operation get all up in russi...   \n",
       "4  b'poland and us agree to missle defense deal. ...   \n",
       "\n",
       "                                                Top8  ...  \\\n",
       "0  b\"the 'enemy combatent' trials are nothing but...  ...   \n",
       "1  b'an american citizen living in s.ossetia blam...  ...   \n",
       "2  b\"i'm trying to get a sense of this whole geor...  ...   \n",
       "3             b'russian forces sink georgian ships '  ...   \n",
       "4  b'will the russians conquer tblisi? bet on it,...  ...   \n",
       "\n",
       "                                               Top17  \\\n",
       "0                b'al-qaeda faces islamist backlash'   \n",
       "1  b'\"do not believe tv, neither russian nor geor...   \n",
       "2       b'why russias response to georgia was right'   \n",
       "3  b'us humanitarian missions soon in georgia - i...   \n",
       "4  b\"georgia confict could set back russia's us r...   \n",
       "\n",
       "                                               Top18  \\\n",
       "0  b'condoleezza rice: \"the us would not act to p...   \n",
       "1  b'riots are still going on in montreal (canada...   \n",
       "2  b'gorbachev accuses u.s. of making a \"serious ...   \n",
       "3             b\"georgia's ddos came from us sources\"   \n",
       "4  b'war in the caucasus is as much the product o...   \n",
       "\n",
       "                                               Top19  \\\n",
       "0  b'this is a busy day:  the european union has ...   \n",
       "1    b'china to overtake us as largest manufacturer'   \n",
       "2         b'russia, georgia, and nato: cold war two'   \n",
       "3  b'russian convoy heads into georgia, violating...   \n",
       "4  b'\"non-media\" photos of south ossetia/georgia ...   \n",
       "\n",
       "                                               Top20  \\\n",
       "0  b\"georgia will withdraw 1,000 soldiers from ir...   \n",
       "1                     b'war in south ossetia [pics]'   \n",
       "2  b'remember that adorable 62-year-old who led y...   \n",
       "3  b'israeli defence minister: us against strike ...   \n",
       "4  b'georgian tv reporter shot by russian sniper ...   \n",
       "\n",
       "                                               Top21  \\\n",
       "0  b'why the pentagon thinks attacking iran is a ...   \n",
       "1  b'israeli physicians group condemns state tort...   \n",
       "2          b'war in georgia: the israeli connection'   \n",
       "3                     b'gorbachev: we had no choice'   \n",
       "4  b'saudi arabia: mother moves to block child ma...   \n",
       "\n",
       "                                               Top22  \\\n",
       "0  b'caucasus in crisis: georgia invades south os...   \n",
       "1  b' russia has just beaten the united states ov...   \n",
       "2  b'all signs point to the us encouraging georgi...   \n",
       "3  b'witness: russian forces head towards tbilisi...   \n",
       "4   b'taliban wages war on humanitarian aid workers'   \n",
       "\n",
       "                                               Top23  \\\n",
       "0  b'indian shoe manufactory  - and again in a se...   \n",
       "1  b'perhaps *the* question about the georgia - r...   \n",
       "2  b'christopher king argues that the us and nato...   \n",
       "3  b' quarter of russians blame u.s. for conflict...   \n",
       "4  b'russia: world  \"can forget about\" georgia\\'s...   \n",
       "\n",
       "                                               Top24  \\\n",
       "0  b'visitors suffering from mental illnesses ban...   \n",
       "1                 b'russia is so much better at war'   \n",
       "2                        b'america: the new mexico?'   \n",
       "3  b'georgian president  says us military will ta...   \n",
       "4  b'darfur rebels accuse sudan of mounting major...   \n",
       "\n",
       "                                               Top25  \\\n",
       "0           b\"no help for mexico's kidnapping surge\"   \n",
       "1  b\"so this is what it's come to: trading sex fo...   \n",
       "2  b\"bbc news | asia-pacific | extinction 'by man...   \n",
       "3  b'2006: nobel laureate aleksander solzhenitsyn...   \n",
       "4  b'philippines : peace advocate say muslims nee...   \n",
       "\n",
       "                                       Headline_News  \n",
       "0  georgia downs two russian warplanes as countri...  \n",
       "1  why wont america and nato help us? if they won...  \n",
       "2  remember that adorable 9-year-old who sang at ...  \n",
       "3   u.s. refuses israel weapons to attack iran: r...  \n",
       "4  all the experts admit that we should legalise ...  \n",
       "\n",
       "[5 rows x 28 columns]"
      ]
     },
     "execution_count": 65,
     "metadata": {},
     "output_type": "execute_result"
    }
   ],
   "source": [
    "news_data.head()"
   ]
  },
  {
   "cell_type": "code",
   "execution_count": 66,
   "metadata": {},
   "outputs": [
    {
     "name": "stdout",
     "output_type": "stream",
     "text": [
      "<class 'pandas.core.frame.DataFrame'>\n",
      "RangeIndex: 1989 entries, 0 to 1988\n",
      "Data columns (total 28 columns):\n",
      "Date             1989 non-null object\n",
      "Label            1989 non-null int64\n",
      "Top1             1989 non-null object\n",
      "Top2             1989 non-null object\n",
      "Top3             1989 non-null object\n",
      "Top4             1989 non-null object\n",
      "Top5             1989 non-null object\n",
      "Top6             1989 non-null object\n",
      "Top7             1989 non-null object\n",
      "Top8             1989 non-null object\n",
      "Top9             1989 non-null object\n",
      "Top10            1989 non-null object\n",
      "Top11            1989 non-null object\n",
      "Top12            1989 non-null object\n",
      "Top13            1989 non-null object\n",
      "Top14            1989 non-null object\n",
      "Top15            1989 non-null object\n",
      "Top16            1989 non-null object\n",
      "Top17            1989 non-null object\n",
      "Top18            1989 non-null object\n",
      "Top19            1989 non-null object\n",
      "Top20            1989 non-null object\n",
      "Top21            1989 non-null object\n",
      "Top22            1989 non-null object\n",
      "Top23            1988 non-null object\n",
      "Top24            1986 non-null object\n",
      "Top25            1986 non-null object\n",
      "Headline_News    1989 non-null object\n",
      "dtypes: int64(1), object(27)\n",
      "memory usage: 435.2+ KB\n"
     ]
    }
   ],
   "source": [
    "news_data.info()"
   ]
  },
  {
   "cell_type": "code",
   "execution_count": 67,
   "metadata": {},
   "outputs": [
    {
     "data": {
      "text/html": [
       "<div>\n",
       "<style scoped>\n",
       "    .dataframe tbody tr th:only-of-type {\n",
       "        vertical-align: middle;\n",
       "    }\n",
       "\n",
       "    .dataframe tbody tr th {\n",
       "        vertical-align: top;\n",
       "    }\n",
       "\n",
       "    .dataframe thead th {\n",
       "        text-align: right;\n",
       "    }\n",
       "</style>\n",
       "<table border=\"1\" class=\"dataframe\">\n",
       "  <thead>\n",
       "    <tr style=\"text-align: right;\">\n",
       "      <th></th>\n",
       "      <th>Date</th>\n",
       "      <th>Label</th>\n",
       "      <th>Headline_News</th>\n",
       "    </tr>\n",
       "  </thead>\n",
       "  <tbody>\n",
       "    <tr>\n",
       "      <td>0</td>\n",
       "      <td>2008-08-08</td>\n",
       "      <td>0</td>\n",
       "      <td>georgia downs two russian warplanes as countri...</td>\n",
       "    </tr>\n",
       "    <tr>\n",
       "      <td>1</td>\n",
       "      <td>2008-08-11</td>\n",
       "      <td>1</td>\n",
       "      <td>why wont america and nato help us? if they won...</td>\n",
       "    </tr>\n",
       "    <tr>\n",
       "      <td>2</td>\n",
       "      <td>2008-08-12</td>\n",
       "      <td>0</td>\n",
       "      <td>remember that adorable 9-year-old who sang at ...</td>\n",
       "    </tr>\n",
       "    <tr>\n",
       "      <td>3</td>\n",
       "      <td>2008-08-13</td>\n",
       "      <td>0</td>\n",
       "      <td>u.s. refuses israel weapons to attack iran: r...</td>\n",
       "    </tr>\n",
       "    <tr>\n",
       "      <td>4</td>\n",
       "      <td>2008-08-14</td>\n",
       "      <td>1</td>\n",
       "      <td>all the experts admit that we should legalise ...</td>\n",
       "    </tr>\n",
       "  </tbody>\n",
       "</table>\n",
       "</div>"
      ],
      "text/plain": [
       "         Date  Label                                      Headline_News\n",
       "0  2008-08-08      0  georgia downs two russian warplanes as countri...\n",
       "1  2008-08-11      1  why wont america and nato help us? if they won...\n",
       "2  2008-08-12      0  remember that adorable 9-year-old who sang at ...\n",
       "3  2008-08-13      0   u.s. refuses israel weapons to attack iran: r...\n",
       "4  2008-08-14      1  all the experts admit that we should legalise ..."
      ]
     },
     "execution_count": 67,
     "metadata": {},
     "output_type": "execute_result"
    }
   ],
   "source": [
    "unwanted_col = news_data.iloc[:,2:27].columns\n",
    "\n",
    "news_data.drop(columns=unwanted_col, inplace=True)\n",
    "news_data.head()"
   ]
  },
  {
   "cell_type": "markdown",
   "metadata": {},
   "source": [
    "## Creating merged matrix"
   ]
  },
  {
   "cell_type": "code",
   "execution_count": 68,
   "metadata": {},
   "outputs": [],
   "source": [
    "stock_price = df.copy()"
   ]
  },
  {
   "cell_type": "code",
   "execution_count": 69,
   "metadata": {},
   "outputs": [
    {
     "data": {
      "text/html": [
       "<div>\n",
       "<style scoped>\n",
       "    .dataframe tbody tr th:only-of-type {\n",
       "        vertical-align: middle;\n",
       "    }\n",
       "\n",
       "    .dataframe tbody tr th {\n",
       "        vertical-align: top;\n",
       "    }\n",
       "\n",
       "    .dataframe thead th {\n",
       "        text-align: right;\n",
       "    }\n",
       "</style>\n",
       "<table border=\"1\" class=\"dataframe\">\n",
       "  <thead>\n",
       "    <tr style=\"text-align: right;\">\n",
       "      <th></th>\n",
       "      <th>Date</th>\n",
       "      <th>Open</th>\n",
       "      <th>High</th>\n",
       "      <th>Low</th>\n",
       "      <th>Close</th>\n",
       "      <th>Adj Close</th>\n",
       "      <th>Volume</th>\n",
       "    </tr>\n",
       "  </thead>\n",
       "  <tbody>\n",
       "    <tr>\n",
       "      <td>0</td>\n",
       "      <td>2010-01-04</td>\n",
       "      <td>17473.449219</td>\n",
       "      <td>17582.839844</td>\n",
       "      <td>17378.380859</td>\n",
       "      <td>17558.730469</td>\n",
       "      <td>17558.730469</td>\n",
       "      <td>28200.0</td>\n",
       "    </tr>\n",
       "    <tr>\n",
       "      <td>1</td>\n",
       "      <td>2010-01-05</td>\n",
       "      <td>17555.769531</td>\n",
       "      <td>17729.779297</td>\n",
       "      <td>17555.769531</td>\n",
       "      <td>17686.240234</td>\n",
       "      <td>17686.240234</td>\n",
       "      <td>27000.0</td>\n",
       "    </tr>\n",
       "    <tr>\n",
       "      <td>2</td>\n",
       "      <td>2010-01-06</td>\n",
       "      <td>17719.470703</td>\n",
       "      <td>17790.330078</td>\n",
       "      <td>17636.710938</td>\n",
       "      <td>17701.130859</td>\n",
       "      <td>17701.130859</td>\n",
       "      <td>21400.0</td>\n",
       "    </tr>\n",
       "    <tr>\n",
       "      <td>3</td>\n",
       "      <td>2010-01-07</td>\n",
       "      <td>17701.970703</td>\n",
       "      <td>17733.339844</td>\n",
       "      <td>17566.539063</td>\n",
       "      <td>17615.720703</td>\n",
       "      <td>17615.720703</td>\n",
       "      <td>18000.0</td>\n",
       "    </tr>\n",
       "    <tr>\n",
       "      <td>4</td>\n",
       "      <td>2010-01-08</td>\n",
       "      <td>17603.869141</td>\n",
       "      <td>17658.119141</td>\n",
       "      <td>17508.960938</td>\n",
       "      <td>17540.289063</td>\n",
       "      <td>17540.289063</td>\n",
       "      <td>17200.0</td>\n",
       "    </tr>\n",
       "  </tbody>\n",
       "</table>\n",
       "</div>"
      ],
      "text/plain": [
       "        Date          Open          High           Low         Close  \\\n",
       "0 2010-01-04  17473.449219  17582.839844  17378.380859  17558.730469   \n",
       "1 2010-01-05  17555.769531  17729.779297  17555.769531  17686.240234   \n",
       "2 2010-01-06  17719.470703  17790.330078  17636.710938  17701.130859   \n",
       "3 2010-01-07  17701.970703  17733.339844  17566.539063  17615.720703   \n",
       "4 2010-01-08  17603.869141  17658.119141  17508.960938  17540.289063   \n",
       "\n",
       "      Adj Close   Volume  \n",
       "0  17558.730469  28200.0  \n",
       "1  17686.240234  27000.0  \n",
       "2  17701.130859  21400.0  \n",
       "3  17615.720703  18000.0  \n",
       "4  17540.289063  17200.0  "
      ]
     },
     "execution_count": 69,
     "metadata": {},
     "output_type": "execute_result"
    }
   ],
   "source": [
    "stock_price.head()"
   ]
  },
  {
   "cell_type": "code",
   "execution_count": 70,
   "metadata": {},
   "outputs": [
    {
     "name": "stdout",
     "output_type": "stream",
     "text": [
      "<class 'pandas.core.frame.DataFrame'>\n",
      "Int64Index: 2453 entries, 0 to 2468\n",
      "Data columns (total 7 columns):\n",
      "Date         2453 non-null datetime64[ns]\n",
      "Open         2453 non-null float64\n",
      "High         2453 non-null float64\n",
      "Low          2453 non-null float64\n",
      "Close        2453 non-null float64\n",
      "Adj Close    2453 non-null float64\n",
      "Volume       2453 non-null float64\n",
      "dtypes: datetime64[ns](1), float64(6)\n",
      "memory usage: 153.3 KB\n"
     ]
    }
   ],
   "source": [
    "stock_price.info()"
   ]
  },
  {
   "cell_type": "code",
   "execution_count": 71,
   "metadata": {},
   "outputs": [],
   "source": [
    "stock_price['Date'] = stock_price['Date'].astype(str)"
   ]
  },
  {
   "cell_type": "code",
   "execution_count": 72,
   "metadata": {},
   "outputs": [
    {
     "name": "stdout",
     "output_type": "stream",
     "text": [
      "<class 'pandas.core.frame.DataFrame'>\n",
      "Int64Index: 2453 entries, 0 to 2468\n",
      "Data columns (total 7 columns):\n",
      "Date         2453 non-null object\n",
      "Open         2453 non-null float64\n",
      "High         2453 non-null float64\n",
      "Low          2453 non-null float64\n",
      "Close        2453 non-null float64\n",
      "Adj Close    2453 non-null float64\n",
      "Volume       2453 non-null float64\n",
      "dtypes: float64(6), object(1)\n",
      "memory usage: 153.3+ KB\n"
     ]
    }
   ],
   "source": [
    "stock_price.info()"
   ]
  },
  {
   "cell_type": "code",
   "execution_count": 73,
   "metadata": {},
   "outputs": [],
   "source": [
    "hybrid_data = news_data.merge(stock_price, how='inner', on='Date', left_index = True)"
   ]
  },
  {
   "cell_type": "code",
   "execution_count": 74,
   "metadata": {},
   "outputs": [
    {
     "data": {
      "text/html": [
       "<div>\n",
       "<style scoped>\n",
       "    .dataframe tbody tr th:only-of-type {\n",
       "        vertical-align: middle;\n",
       "    }\n",
       "\n",
       "    .dataframe tbody tr th {\n",
       "        vertical-align: top;\n",
       "    }\n",
       "\n",
       "    .dataframe thead th {\n",
       "        text-align: right;\n",
       "    }\n",
       "</style>\n",
       "<table border=\"1\" class=\"dataframe\">\n",
       "  <thead>\n",
       "    <tr style=\"text-align: right;\">\n",
       "      <th></th>\n",
       "      <th>Date</th>\n",
       "      <th>Label</th>\n",
       "      <th>Headline_News</th>\n",
       "      <th>Open</th>\n",
       "      <th>High</th>\n",
       "      <th>Low</th>\n",
       "      <th>Close</th>\n",
       "      <th>Adj Close</th>\n",
       "      <th>Volume</th>\n",
       "    </tr>\n",
       "  </thead>\n",
       "  <tbody>\n",
       "    <tr>\n",
       "      <td>0</td>\n",
       "      <td>2010-01-04</td>\n",
       "      <td>1</td>\n",
       "      <td>new airport scanners break child porn laws ind...</td>\n",
       "      <td>17473.449219</td>\n",
       "      <td>17582.839844</td>\n",
       "      <td>17378.380859</td>\n",
       "      <td>17558.730469</td>\n",
       "      <td>17558.730469</td>\n",
       "      <td>28200.0</td>\n",
       "    </tr>\n",
       "    <tr>\n",
       "      <td>1</td>\n",
       "      <td>2010-01-05</td>\n",
       "      <td>0</td>\n",
       "      <td>these images depict the untouched stomach cont...</td>\n",
       "      <td>17555.769531</td>\n",
       "      <td>17729.779297</td>\n",
       "      <td>17555.769531</td>\n",
       "      <td>17686.240234</td>\n",
       "      <td>17686.240234</td>\n",
       "      <td>27000.0</td>\n",
       "    </tr>\n",
       "    <tr>\n",
       "      <td>2</td>\n",
       "      <td>2010-01-06</td>\n",
       "      <td>1</td>\n",
       "      <td>three americans go to uganda and teach thousan...</td>\n",
       "      <td>17719.470703</td>\n",
       "      <td>17790.330078</td>\n",
       "      <td>17636.710938</td>\n",
       "      <td>17701.130859</td>\n",
       "      <td>17701.130859</td>\n",
       "      <td>21400.0</td>\n",
       "    </tr>\n",
       "    <tr>\n",
       "      <td>3</td>\n",
       "      <td>2010-01-07</td>\n",
       "      <td>1</td>\n",
       "      <td>23-year-old british woman on holiday in dubai ...</td>\n",
       "      <td>17701.970703</td>\n",
       "      <td>17733.339844</td>\n",
       "      <td>17566.539063</td>\n",
       "      <td>17615.720703</td>\n",
       "      <td>17615.720703</td>\n",
       "      <td>18000.0</td>\n",
       "    </tr>\n",
       "    <tr>\n",
       "      <td>4</td>\n",
       "      <td>2010-01-08</td>\n",
       "      <td>1</td>\n",
       "      <td>top imams affiliated with the islamic supreme ...</td>\n",
       "      <td>17603.869141</td>\n",
       "      <td>17658.119141</td>\n",
       "      <td>17508.960938</td>\n",
       "      <td>17540.289063</td>\n",
       "      <td>17540.289063</td>\n",
       "      <td>17200.0</td>\n",
       "    </tr>\n",
       "  </tbody>\n",
       "</table>\n",
       "</div>"
      ],
      "text/plain": [
       "         Date  Label                                      Headline_News  \\\n",
       "0  2010-01-04      1  new airport scanners break child porn laws ind...   \n",
       "1  2010-01-05      0  these images depict the untouched stomach cont...   \n",
       "2  2010-01-06      1  three americans go to uganda and teach thousan...   \n",
       "3  2010-01-07      1  23-year-old british woman on holiday in dubai ...   \n",
       "4  2010-01-08      1  top imams affiliated with the islamic supreme ...   \n",
       "\n",
       "           Open          High           Low         Close     Adj Close  \\\n",
       "0  17473.449219  17582.839844  17378.380859  17558.730469  17558.730469   \n",
       "1  17555.769531  17729.779297  17555.769531  17686.240234  17686.240234   \n",
       "2  17719.470703  17790.330078  17636.710938  17701.130859  17701.130859   \n",
       "3  17701.970703  17733.339844  17566.539063  17615.720703  17615.720703   \n",
       "4  17603.869141  17658.119141  17508.960938  17540.289063  17540.289063   \n",
       "\n",
       "    Volume  \n",
       "0  28200.0  \n",
       "1  27000.0  \n",
       "2  21400.0  \n",
       "3  18000.0  \n",
       "4  17200.0  "
      ]
     },
     "execution_count": 74,
     "metadata": {},
     "output_type": "execute_result"
    }
   ],
   "source": [
    "hybrid_data.head()"
   ]
  },
  {
   "cell_type": "markdown",
   "metadata": {},
   "source": [
    "### Sentiment analysis"
   ]
  },
  {
   "cell_type": "code",
   "execution_count": 75,
   "metadata": {},
   "outputs": [],
   "source": [
    "def analysis_polarity(headline):\n",
    "    result = TextBlob(headline)\n",
    "    \n",
    "    if result.sentiment.polarity > 0:\n",
    "        return 'positive'\n",
    "    elif result.sentiment.polarity == 0:\n",
    "        return 'neutral'\n",
    "    else:\n",
    "        return 'negative'"
   ]
  },
  {
   "cell_type": "code",
   "execution_count": 76,
   "metadata": {},
   "outputs": [
    {
     "data": {
      "text/html": [
       "<div>\n",
       "<style scoped>\n",
       "    .dataframe tbody tr th:only-of-type {\n",
       "        vertical-align: middle;\n",
       "    }\n",
       "\n",
       "    .dataframe tbody tr th {\n",
       "        vertical-align: top;\n",
       "    }\n",
       "\n",
       "    .dataframe thead th {\n",
       "        text-align: right;\n",
       "    }\n",
       "</style>\n",
       "<table border=\"1\" class=\"dataframe\">\n",
       "  <thead>\n",
       "    <tr style=\"text-align: right;\">\n",
       "      <th></th>\n",
       "      <th>Date</th>\n",
       "      <th>Label</th>\n",
       "      <th>Headline_News</th>\n",
       "      <th>Open</th>\n",
       "      <th>High</th>\n",
       "      <th>Low</th>\n",
       "      <th>Close</th>\n",
       "      <th>Adj Close</th>\n",
       "      <th>Volume</th>\n",
       "      <th>sentiment</th>\n",
       "    </tr>\n",
       "  </thead>\n",
       "  <tbody>\n",
       "    <tr>\n",
       "      <td>0</td>\n",
       "      <td>2010-01-04</td>\n",
       "      <td>1</td>\n",
       "      <td>new airport scanners break child porn laws ind...</td>\n",
       "      <td>17473.449219</td>\n",
       "      <td>17582.839844</td>\n",
       "      <td>17378.380859</td>\n",
       "      <td>17558.730469</td>\n",
       "      <td>17558.730469</td>\n",
       "      <td>28200.0</td>\n",
       "      <td>positive</td>\n",
       "    </tr>\n",
       "    <tr>\n",
       "      <td>1</td>\n",
       "      <td>2010-01-05</td>\n",
       "      <td>0</td>\n",
       "      <td>these images depict the untouched stomach cont...</td>\n",
       "      <td>17555.769531</td>\n",
       "      <td>17729.779297</td>\n",
       "      <td>17555.769531</td>\n",
       "      <td>17686.240234</td>\n",
       "      <td>17686.240234</td>\n",
       "      <td>27000.0</td>\n",
       "      <td>positive</td>\n",
       "    </tr>\n",
       "    <tr>\n",
       "      <td>2</td>\n",
       "      <td>2010-01-06</td>\n",
       "      <td>1</td>\n",
       "      <td>three americans go to uganda and teach thousan...</td>\n",
       "      <td>17719.470703</td>\n",
       "      <td>17790.330078</td>\n",
       "      <td>17636.710938</td>\n",
       "      <td>17701.130859</td>\n",
       "      <td>17701.130859</td>\n",
       "      <td>21400.0</td>\n",
       "      <td>positive</td>\n",
       "    </tr>\n",
       "    <tr>\n",
       "      <td>3</td>\n",
       "      <td>2010-01-07</td>\n",
       "      <td>1</td>\n",
       "      <td>23-year-old british woman on holiday in dubai ...</td>\n",
       "      <td>17701.970703</td>\n",
       "      <td>17733.339844</td>\n",
       "      <td>17566.539063</td>\n",
       "      <td>17615.720703</td>\n",
       "      <td>17615.720703</td>\n",
       "      <td>18000.0</td>\n",
       "      <td>positive</td>\n",
       "    </tr>\n",
       "    <tr>\n",
       "      <td>4</td>\n",
       "      <td>2010-01-08</td>\n",
       "      <td>1</td>\n",
       "      <td>top imams affiliated with the islamic supreme ...</td>\n",
       "      <td>17603.869141</td>\n",
       "      <td>17658.119141</td>\n",
       "      <td>17508.960938</td>\n",
       "      <td>17540.289063</td>\n",
       "      <td>17540.289063</td>\n",
       "      <td>17200.0</td>\n",
       "      <td>negative</td>\n",
       "    </tr>\n",
       "  </tbody>\n",
       "</table>\n",
       "</div>"
      ],
      "text/plain": [
       "         Date  Label                                      Headline_News  \\\n",
       "0  2010-01-04      1  new airport scanners break child porn laws ind...   \n",
       "1  2010-01-05      0  these images depict the untouched stomach cont...   \n",
       "2  2010-01-06      1  three americans go to uganda and teach thousan...   \n",
       "3  2010-01-07      1  23-year-old british woman on holiday in dubai ...   \n",
       "4  2010-01-08      1  top imams affiliated with the islamic supreme ...   \n",
       "\n",
       "           Open          High           Low         Close     Adj Close  \\\n",
       "0  17473.449219  17582.839844  17378.380859  17558.730469  17558.730469   \n",
       "1  17555.769531  17729.779297  17555.769531  17686.240234  17686.240234   \n",
       "2  17719.470703  17790.330078  17636.710938  17701.130859  17701.130859   \n",
       "3  17701.970703  17733.339844  17566.539063  17615.720703  17615.720703   \n",
       "4  17603.869141  17658.119141  17508.960938  17540.289063  17540.289063   \n",
       "\n",
       "    Volume sentiment  \n",
       "0  28200.0  positive  \n",
       "1  27000.0  positive  \n",
       "2  21400.0  positive  \n",
       "3  18000.0  positive  \n",
       "4  17200.0  negative  "
      ]
     },
     "execution_count": 76,
     "metadata": {},
     "output_type": "execute_result"
    }
   ],
   "source": [
    "hybrid_data['sentiment'] = np.array([analysis_polarity(headline) for headline in hybrid_data['Headline_News']])\n",
    "hybrid_data.head()"
   ]
  },
  {
   "cell_type": "code",
   "execution_count": 77,
   "metadata": {},
   "outputs": [],
   "source": [
    "senti_data = pd.get_dummies(hybrid_data['sentiment'],drop_first=True)"
   ]
  },
  {
   "cell_type": "code",
   "execution_count": 78,
   "metadata": {},
   "outputs": [
    {
     "data": {
      "text/html": [
       "<div>\n",
       "<style scoped>\n",
       "    .dataframe tbody tr th:only-of-type {\n",
       "        vertical-align: middle;\n",
       "    }\n",
       "\n",
       "    .dataframe tbody tr th {\n",
       "        vertical-align: top;\n",
       "    }\n",
       "\n",
       "    .dataframe thead th {\n",
       "        text-align: right;\n",
       "    }\n",
       "</style>\n",
       "<table border=\"1\" class=\"dataframe\">\n",
       "  <thead>\n",
       "    <tr style=\"text-align: right;\">\n",
       "      <th></th>\n",
       "      <th>Date</th>\n",
       "      <th>Label</th>\n",
       "      <th>Headline_News</th>\n",
       "      <th>Open</th>\n",
       "      <th>High</th>\n",
       "      <th>Low</th>\n",
       "      <th>Close</th>\n",
       "      <th>Adj Close</th>\n",
       "      <th>Volume</th>\n",
       "      <th>sentiment</th>\n",
       "      <th>positive</th>\n",
       "    </tr>\n",
       "  </thead>\n",
       "  <tbody>\n",
       "    <tr>\n",
       "      <td>0</td>\n",
       "      <td>2010-01-04</td>\n",
       "      <td>1</td>\n",
       "      <td>new airport scanners break child porn laws ind...</td>\n",
       "      <td>17473.449219</td>\n",
       "      <td>17582.839844</td>\n",
       "      <td>17378.380859</td>\n",
       "      <td>17558.730469</td>\n",
       "      <td>17558.730469</td>\n",
       "      <td>28200.0</td>\n",
       "      <td>positive</td>\n",
       "      <td>1</td>\n",
       "    </tr>\n",
       "    <tr>\n",
       "      <td>1</td>\n",
       "      <td>2010-01-05</td>\n",
       "      <td>0</td>\n",
       "      <td>these images depict the untouched stomach cont...</td>\n",
       "      <td>17555.769531</td>\n",
       "      <td>17729.779297</td>\n",
       "      <td>17555.769531</td>\n",
       "      <td>17686.240234</td>\n",
       "      <td>17686.240234</td>\n",
       "      <td>27000.0</td>\n",
       "      <td>positive</td>\n",
       "      <td>1</td>\n",
       "    </tr>\n",
       "    <tr>\n",
       "      <td>2</td>\n",
       "      <td>2010-01-06</td>\n",
       "      <td>1</td>\n",
       "      <td>three americans go to uganda and teach thousan...</td>\n",
       "      <td>17719.470703</td>\n",
       "      <td>17790.330078</td>\n",
       "      <td>17636.710938</td>\n",
       "      <td>17701.130859</td>\n",
       "      <td>17701.130859</td>\n",
       "      <td>21400.0</td>\n",
       "      <td>positive</td>\n",
       "      <td>1</td>\n",
       "    </tr>\n",
       "    <tr>\n",
       "      <td>3</td>\n",
       "      <td>2010-01-07</td>\n",
       "      <td>1</td>\n",
       "      <td>23-year-old british woman on holiday in dubai ...</td>\n",
       "      <td>17701.970703</td>\n",
       "      <td>17733.339844</td>\n",
       "      <td>17566.539063</td>\n",
       "      <td>17615.720703</td>\n",
       "      <td>17615.720703</td>\n",
       "      <td>18000.0</td>\n",
       "      <td>positive</td>\n",
       "      <td>1</td>\n",
       "    </tr>\n",
       "    <tr>\n",
       "      <td>4</td>\n",
       "      <td>2010-01-08</td>\n",
       "      <td>1</td>\n",
       "      <td>top imams affiliated with the islamic supreme ...</td>\n",
       "      <td>17603.869141</td>\n",
       "      <td>17658.119141</td>\n",
       "      <td>17508.960938</td>\n",
       "      <td>17540.289063</td>\n",
       "      <td>17540.289063</td>\n",
       "      <td>17200.0</td>\n",
       "      <td>negative</td>\n",
       "      <td>0</td>\n",
       "    </tr>\n",
       "  </tbody>\n",
       "</table>\n",
       "</div>"
      ],
      "text/plain": [
       "         Date  Label                                      Headline_News  \\\n",
       "0  2010-01-04      1  new airport scanners break child porn laws ind...   \n",
       "1  2010-01-05      0  these images depict the untouched stomach cont...   \n",
       "2  2010-01-06      1  three americans go to uganda and teach thousan...   \n",
       "3  2010-01-07      1  23-year-old british woman on holiday in dubai ...   \n",
       "4  2010-01-08      1  top imams affiliated with the islamic supreme ...   \n",
       "\n",
       "           Open          High           Low         Close     Adj Close  \\\n",
       "0  17473.449219  17582.839844  17378.380859  17558.730469  17558.730469   \n",
       "1  17555.769531  17729.779297  17555.769531  17686.240234  17686.240234   \n",
       "2  17719.470703  17790.330078  17636.710938  17701.130859  17701.130859   \n",
       "3  17701.970703  17733.339844  17566.539063  17615.720703  17615.720703   \n",
       "4  17603.869141  17658.119141  17508.960938  17540.289063  17540.289063   \n",
       "\n",
       "    Volume sentiment  positive  \n",
       "0  28200.0  positive         1  \n",
       "1  27000.0  positive         1  \n",
       "2  21400.0  positive         1  \n",
       "3  18000.0  positive         1  \n",
       "4  17200.0  negative         0  "
      ]
     },
     "execution_count": 78,
     "metadata": {},
     "output_type": "execute_result"
    }
   ],
   "source": [
    "hybrid_data = pd.concat([hybrid_data,senti_data],axis=1)\n",
    "hybrid_data.head()"
   ]
  },
  {
   "cell_type": "code",
   "execution_count": 79,
   "metadata": {},
   "outputs": [],
   "source": [
    "need_col = ['Open',  'High', 'Low','Volume','sentiment','positive','Label']"
   ]
  },
  {
   "cell_type": "code",
   "execution_count": 80,
   "metadata": {},
   "outputs": [],
   "source": [
    "new_hybrid = hybrid_data[need_col]\n",
    "new_hybrid.reset_index(inplace = True)"
   ]
  },
  {
   "cell_type": "code",
   "execution_count": 81,
   "metadata": {},
   "outputs": [
    {
     "name": "stderr",
     "output_type": "stream",
     "text": [
      "C:\\Users\\Mrunal\\Anaconda3\\lib\\site-packages\\pandas\\core\\frame.py:4102: SettingWithCopyWarning: \n",
      "A value is trying to be set on a copy of a slice from a DataFrame\n",
      "\n",
      "See the caveats in the documentation: http://pandas.pydata.org/pandas-docs/stable/user_guide/indexing.html#returning-a-view-versus-a-copy\n",
      "  errors=errors,\n"
     ]
    }
   ],
   "source": [
    "new_hybrid.drop(columns=['index'],inplace=True)"
   ]
  },
  {
   "cell_type": "code",
   "execution_count": 82,
   "metadata": {},
   "outputs": [
    {
     "data": {
      "text/html": [
       "<div>\n",
       "<style scoped>\n",
       "    .dataframe tbody tr th:only-of-type {\n",
       "        vertical-align: middle;\n",
       "    }\n",
       "\n",
       "    .dataframe tbody tr th {\n",
       "        vertical-align: top;\n",
       "    }\n",
       "\n",
       "    .dataframe thead th {\n",
       "        text-align: right;\n",
       "    }\n",
       "</style>\n",
       "<table border=\"1\" class=\"dataframe\">\n",
       "  <thead>\n",
       "    <tr style=\"text-align: right;\">\n",
       "      <th></th>\n",
       "      <th>Open</th>\n",
       "      <th>High</th>\n",
       "      <th>Low</th>\n",
       "      <th>Volume</th>\n",
       "      <th>sentiment</th>\n",
       "      <th>positive</th>\n",
       "      <th>Label</th>\n",
       "    </tr>\n",
       "  </thead>\n",
       "  <tbody>\n",
       "    <tr>\n",
       "      <td>0</td>\n",
       "      <td>17473.449219</td>\n",
       "      <td>17582.839844</td>\n",
       "      <td>17378.380859</td>\n",
       "      <td>28200.0</td>\n",
       "      <td>positive</td>\n",
       "      <td>1</td>\n",
       "      <td>1</td>\n",
       "    </tr>\n",
       "    <tr>\n",
       "      <td>1</td>\n",
       "      <td>17555.769531</td>\n",
       "      <td>17729.779297</td>\n",
       "      <td>17555.769531</td>\n",
       "      <td>27000.0</td>\n",
       "      <td>positive</td>\n",
       "      <td>1</td>\n",
       "      <td>0</td>\n",
       "    </tr>\n",
       "    <tr>\n",
       "      <td>2</td>\n",
       "      <td>17719.470703</td>\n",
       "      <td>17790.330078</td>\n",
       "      <td>17636.710938</td>\n",
       "      <td>21400.0</td>\n",
       "      <td>positive</td>\n",
       "      <td>1</td>\n",
       "      <td>1</td>\n",
       "    </tr>\n",
       "    <tr>\n",
       "      <td>3</td>\n",
       "      <td>17701.970703</td>\n",
       "      <td>17733.339844</td>\n",
       "      <td>17566.539063</td>\n",
       "      <td>18000.0</td>\n",
       "      <td>positive</td>\n",
       "      <td>1</td>\n",
       "      <td>1</td>\n",
       "    </tr>\n",
       "    <tr>\n",
       "      <td>4</td>\n",
       "      <td>17603.869141</td>\n",
       "      <td>17658.119141</td>\n",
       "      <td>17508.960938</td>\n",
       "      <td>17200.0</td>\n",
       "      <td>negative</td>\n",
       "      <td>0</td>\n",
       "      <td>1</td>\n",
       "    </tr>\n",
       "  </tbody>\n",
       "</table>\n",
       "</div>"
      ],
      "text/plain": [
       "           Open          High           Low   Volume sentiment  positive  \\\n",
       "0  17473.449219  17582.839844  17378.380859  28200.0  positive         1   \n",
       "1  17555.769531  17729.779297  17555.769531  27000.0  positive         1   \n",
       "2  17719.470703  17790.330078  17636.710938  21400.0  positive         1   \n",
       "3  17701.970703  17733.339844  17566.539063  18000.0  positive         1   \n",
       "4  17603.869141  17658.119141  17508.960938  17200.0  negative         0   \n",
       "\n",
       "   Label  \n",
       "0      1  \n",
       "1      0  \n",
       "2      1  \n",
       "3      1  \n",
       "4      1  "
      ]
     },
     "execution_count": 82,
     "metadata": {},
     "output_type": "execute_result"
    }
   ],
   "source": [
    "new_hybrid.head()"
   ]
  },
  {
   "cell_type": "code",
   "execution_count": 83,
   "metadata": {},
   "outputs": [
    {
     "name": "stderr",
     "output_type": "stream",
     "text": [
      "C:\\Users\\Mrunal\\Anaconda3\\lib\\site-packages\\pandas\\core\\frame.py:4223: SettingWithCopyWarning: \n",
      "A value is trying to be set on a copy of a slice from a DataFrame\n",
      "\n",
      "See the caveats in the documentation: http://pandas.pydata.org/pandas-docs/stable/user_guide/indexing.html#returning-a-view-versus-a-copy\n",
      "  return super().rename(**kwargs)\n"
     ]
    }
   ],
   "source": [
    "new_hybrid.rename(columns = {'positive':'sentiment_encoded'}, inplace=True)"
   ]
  },
  {
   "cell_type": "code",
   "execution_count": 88,
   "metadata": {},
   "outputs": [],
   "source": [
    "new_hybrid = new_hybrid.drop('sentiment',1)"
   ]
  },
  {
   "cell_type": "code",
   "execution_count": 89,
   "metadata": {},
   "outputs": [
    {
     "data": {
      "text/html": [
       "<div>\n",
       "<style scoped>\n",
       "    .dataframe tbody tr th:only-of-type {\n",
       "        vertical-align: middle;\n",
       "    }\n",
       "\n",
       "    .dataframe tbody tr th {\n",
       "        vertical-align: top;\n",
       "    }\n",
       "\n",
       "    .dataframe thead th {\n",
       "        text-align: right;\n",
       "    }\n",
       "</style>\n",
       "<table border=\"1\" class=\"dataframe\">\n",
       "  <thead>\n",
       "    <tr style=\"text-align: right;\">\n",
       "      <th></th>\n",
       "      <th>Open</th>\n",
       "      <th>High</th>\n",
       "      <th>Low</th>\n",
       "      <th>Volume</th>\n",
       "      <th>sentiment_encoded</th>\n",
       "      <th>Label</th>\n",
       "    </tr>\n",
       "  </thead>\n",
       "  <tbody>\n",
       "    <tr>\n",
       "      <td>0</td>\n",
       "      <td>17473.449219</td>\n",
       "      <td>17582.839844</td>\n",
       "      <td>17378.380859</td>\n",
       "      <td>28200.0</td>\n",
       "      <td>1</td>\n",
       "      <td>1</td>\n",
       "    </tr>\n",
       "    <tr>\n",
       "      <td>1</td>\n",
       "      <td>17555.769531</td>\n",
       "      <td>17729.779297</td>\n",
       "      <td>17555.769531</td>\n",
       "      <td>27000.0</td>\n",
       "      <td>1</td>\n",
       "      <td>0</td>\n",
       "    </tr>\n",
       "    <tr>\n",
       "      <td>2</td>\n",
       "      <td>17719.470703</td>\n",
       "      <td>17790.330078</td>\n",
       "      <td>17636.710938</td>\n",
       "      <td>21400.0</td>\n",
       "      <td>1</td>\n",
       "      <td>1</td>\n",
       "    </tr>\n",
       "    <tr>\n",
       "      <td>3</td>\n",
       "      <td>17701.970703</td>\n",
       "      <td>17733.339844</td>\n",
       "      <td>17566.539063</td>\n",
       "      <td>18000.0</td>\n",
       "      <td>1</td>\n",
       "      <td>1</td>\n",
       "    </tr>\n",
       "    <tr>\n",
       "      <td>4</td>\n",
       "      <td>17603.869141</td>\n",
       "      <td>17658.119141</td>\n",
       "      <td>17508.960938</td>\n",
       "      <td>17200.0</td>\n",
       "      <td>0</td>\n",
       "      <td>1</td>\n",
       "    </tr>\n",
       "  </tbody>\n",
       "</table>\n",
       "</div>"
      ],
      "text/plain": [
       "           Open          High           Low   Volume  sentiment_encoded  Label\n",
       "0  17473.449219  17582.839844  17378.380859  28200.0                  1      1\n",
       "1  17555.769531  17729.779297  17555.769531  27000.0                  1      0\n",
       "2  17719.470703  17790.330078  17636.710938  21400.0                  1      1\n",
       "3  17701.970703  17733.339844  17566.539063  18000.0                  1      1\n",
       "4  17603.869141  17658.119141  17508.960938  17200.0                  0      1"
      ]
     },
     "execution_count": 89,
     "metadata": {},
     "output_type": "execute_result"
    }
   ],
   "source": [
    "new_hybrid.head()"
   ]
  },
  {
   "cell_type": "code",
   "execution_count": 90,
   "metadata": {},
   "outputs": [],
   "source": [
    "X = new_hybrid.drop('Label', axis=1)\n",
    "y = new_hybrid['Label'] "
   ]
  },
  {
   "cell_type": "code",
   "execution_count": 91,
   "metadata": {},
   "outputs": [],
   "source": [
    "from sklearn.model_selection import train_test_split\n",
    "\n",
    "X_train, X_test, y_train, y_test = train_test_split(X, y, test_size=0.2, random_state = 0)"
   ]
  },
  {
   "cell_type": "markdown",
   "metadata": {},
   "source": [
    "### Training model to find out evaluation metric like - accuracy, roc_auc_score, f1_score"
   ]
  },
  {
   "cell_type": "code",
   "execution_count": 94,
   "metadata": {},
   "outputs": [
    {
     "name": "stdout",
     "output_type": "stream",
     "text": [
      "Random Forest Accuracy Score 0.5112540192926045\n",
      "Random Forest F1 Score 0.5421686746987951\n"
     ]
    }
   ],
   "source": [
    "from sklearn.ensemble import RandomForestClassifier\n",
    "from sklearn.metrics import accuracy_score, roc_auc_score, f1_score, confusion_matrix\n",
    "\n",
    "rf = RandomForestClassifier(n_estimators=200)\n",
    "rf.fit(X_train,y_train)\n",
    "\n",
    "y_pred = rf.predict(X_test)\n",
    "rf_acc_score = accuracy_score(y_test, y_pred)\n",
    "print(\"Random Forest Accuracy Score\", rf_acc_score)\n",
    "\n",
    "rf_f1_score = f1_score(y_test, y_pred)\n",
    "print(\"Random Forest F1 Score\", rf_f1_score)"
   ]
  },
  {
   "cell_type": "code",
   "execution_count": 95,
   "metadata": {},
   "outputs": [
    {
     "name": "stdout",
     "output_type": "stream",
     "text": [
      "Support vector Accuracy Score 0.5337620578778135\n",
      "Suppor vector F1 Score 0.6960167714884696\n"
     ]
    }
   ],
   "source": [
    "from sklearn.svm import SVC\n",
    "\n",
    "svc = SVC()\n",
    "svc.fit(X_train,y_train)\n",
    "y_pred = svc.predict(X_test)\n",
    "\n",
    "svc_acc_score = accuracy_score(y_test, y_pred)\n",
    "print(\"Support vector Accuracy Score\", svc_acc_score)\n",
    "\n",
    "svc_f1_score = f1_score(y_test, y_pred)\n",
    "print(\"Suppor vector F1 Score\", svc_f1_score)"
   ]
  },
  {
   "cell_type": "code",
   "execution_count": 96,
   "metadata": {},
   "outputs": [
    {
     "name": "stdout",
     "output_type": "stream",
     "text": [
      "Lda Accuracy Score 0.5916398713826366\n",
      "Lda F1 Score 0.6481994459833795\n"
     ]
    }
   ],
   "source": [
    "from sklearn.discriminant_analysis import LinearDiscriminantAnalysis\n",
    "\n",
    "lda = LinearDiscriminantAnalysis()\n",
    "lda.fit(X_train, y_train)\n",
    "y_pred = lda.predict(X_test)\n",
    "\n",
    "lda_acc_score = accuracy_score(y_test, y_pred)\n",
    "print(\"Lda Accuracy Score\", lda_acc_score)\n",
    "\n",
    "lda_f1_score = f1_score(y_test, y_pred)\n",
    "print(\"Lda F1 Score\", lda_f1_score)"
   ]
  },
  {
   "cell_type": "code",
   "execution_count": null,
   "metadata": {},
   "outputs": [],
   "source": [
    "+"
   ]
  }
 ],
 "metadata": {
  "kernelspec": {
   "display_name": "Python 3",
   "language": "python",
   "name": "python3"
  },
  "language_info": {
   "codemirror_mode": {
    "name": "ipython",
    "version": 3
   },
   "file_extension": ".py",
   "mimetype": "text/x-python",
   "name": "python",
   "nbconvert_exporter": "python",
   "pygments_lexer": "ipython3",
   "version": "3.7.4"
  }
 },
 "nbformat": 4,
 "nbformat_minor": 2
}
